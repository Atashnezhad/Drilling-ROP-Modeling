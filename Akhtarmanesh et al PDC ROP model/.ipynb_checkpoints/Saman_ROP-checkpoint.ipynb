{
 "cells": [
  {
   "cell_type": "markdown",
   "metadata": {},
   "source": [
    "## PDC ROP model"
   ]
  },
  {
   "cell_type": "code",
   "execution_count": 28,
   "metadata": {},
   "outputs": [],
   "source": [
    "import numpy as np\n",
    "import pandas as pd\n",
    "import math\n",
    "import matplotlib.pylab as plt\n",
    "from scipy.optimize import curve_fit\n"
   ]
  },
  {
   "cell_type": "markdown",
   "metadata": {},
   "source": [
    "### Model"
   ]
  },
  {
   "cell_type": "code",
   "execution_count": 40,
   "metadata": {},
   "outputs": [],
   "source": [
    "def Akhtarmanesh_etal_ROP(WOB,RPM,RS,NOC,BR,SR,Dc,NOB,Db,IFA=1, Db_eff=1):\n",
    "    \n",
    "\n",
    "\n",
    "    try:\n",
    "        \n",
    "        #Saman model phase I and II\n",
    "        WOCt = 270*((RPM/80)**0.1)*(11/NOC)*((math.tan(math.radians(BR))/math.tan(math.radians(25)))**0.2)*(Dc/0.51)*(RS/28000)\n",
    "        # print('WOCt = ', WOCt)                                               \n",
    "        DOCt = 0.018*((80/RPM)**0.3)*(11/NOC)*(Dc/0.51)\n",
    "        # print('DOCt = ', DOCt) \n",
    "        WOBt = WOCt*NOC\n",
    "        # print('WOBt = ', WOBt) \n",
    "        ROPt = DOCt*RPM*5\n",
    "        # print('ROPt = ', ROPt) \n",
    "        ARS = RS*(1+0.3*(RPM/100))\n",
    "        # print('ARS = ', ARS) \n",
    "\n",
    "        G = 880*((NOB**0.3)/(NOC**1.05))*(Dc*math.cos(math.radians(SR)))/(Db**2)*(math.tan(math.radians(BR))**0.2)\n",
    "        # print('G = ', G) \n",
    "        \n",
    "        if WOB < WOBt:\n",
    "\n",
    "\n",
    "            # phase I\n",
    "            ROP = 0.000002*G*((RPM**0.7)*(WOB**2.6))/ARS\n",
    "        else:\n",
    "            # phase II\n",
    "            ROP = G*(RPM*(WOB-WOBt))/ARS + ROPt\n",
    "            \n",
    "    except ZeroDivisionError:\n",
    "        \n",
    "        ROP = 999999\n",
    "        \n",
    "    return ROP"
   ]
  },
  {
   "cell_type": "markdown",
   "metadata": {},
   "source": [
    "### Data"
   ]
  },
  {
   "cell_type": "markdown",
   "metadata": {},
   "source": [
    "### Bits \n",
    "\n",
    "\n",
    "PDC bits manufactured by National Oil Varco - NOV (left) and Ulterra (right) are seen at the following image.\n",
    "<p align=\"left\">\n",
    "  <img  width=\"450\" src=\"NOV_bits.PNG\" >\n",
    "  <img  width=\"450\" src=\"Ulterra_bits.PNG\" >\n",
    "</p>\n",
    "\n",
    "### Data\n",
    "The four-row of data used in this study are seen in the following table.\n",
    "\n",
    "###### Table\n",
    "```\n",
    "|   year | name       |     WOB |   ROP data |   Db |   RPM |   UCS |   NOC |   BR |   SR |   Dc |   NOB |\n",
    "|--------|------------|---------|------------|------|-------|-------|-------|------|------|------|-------|\n",
    "|   2019 | SWG        | 2543.8  |    6.2     | 3.75 |    80 | 28000 |    11 |   25 |    1 | 0.51 |     4 |\n",
    "|   2019 | SWG        | 3048.9  |   11.9     | 3.75 |    80 | 28000 |    11 |   25 |    1 | 0.51 |     4 |\n",
    "|   2019 | SWG        | 3538.7  |   19.5     | 3.75 |    80 | 28000 |    11 |   25 |    1 | 0.51 |     4 |\n",
    "|   2019 | SWG        | 4066.2  |   28.6     | 3.75 |    80 | 28000 |    11 |   25 |    1 | 0.51 |     4 |\n",
    "```\n",
    "###### Data Dimensions\n",
    "\n",
    "```\n",
    "WOB is in lbf\n",
    "ROP data is in ft/hr\n",
    "Db is in inch\n",
    "RPM is in rpm\n",
    "UCS is in psi\n",
    "NOC is dimensionless\n",
    "BR is dimensionless\n",
    "Dc is in inch\n",
    "NOB is dimensionless\n",
    "```"
   ]
  },
  {
   "cell_type": "markdown",
   "metadata": {},
   "source": [
    "### Read data"
   ]
  },
  {
   "cell_type": "code",
   "execution_count": 7,
   "metadata": {},
   "outputs": [
    {
     "data": {
      "text/html": [
       "<div>\n",
       "<style scoped>\n",
       "    .dataframe tbody tr th:only-of-type {\n",
       "        vertical-align: middle;\n",
       "    }\n",
       "\n",
       "    .dataframe tbody tr th {\n",
       "        vertical-align: top;\n",
       "    }\n",
       "\n",
       "    .dataframe thead th {\n",
       "        text-align: right;\n",
       "    }\n",
       "</style>\n",
       "<table border=\"1\" class=\"dataframe\">\n",
       "  <thead>\n",
       "    <tr style=\"text-align: right;\">\n",
       "      <th></th>\n",
       "      <th>year</th>\n",
       "      <th>name</th>\n",
       "      <th>WOB</th>\n",
       "      <th>ROP data</th>\n",
       "      <th>Db</th>\n",
       "      <th>RPM</th>\n",
       "      <th>UCS</th>\n",
       "      <th>NOC</th>\n",
       "      <th>BR</th>\n",
       "      <th>SR</th>\n",
       "      <th>Dc</th>\n",
       "      <th>NOB</th>\n",
       "    </tr>\n",
       "  </thead>\n",
       "  <tbody>\n",
       "    <tr>\n",
       "      <th>0</th>\n",
       "      <td>2019</td>\n",
       "      <td>SWG</td>\n",
       "      <td>2543.8</td>\n",
       "      <td>6.2</td>\n",
       "      <td>3.75</td>\n",
       "      <td>80</td>\n",
       "      <td>28000</td>\n",
       "      <td>11</td>\n",
       "      <td>25</td>\n",
       "      <td>1</td>\n",
       "      <td>0.51</td>\n",
       "      <td>4</td>\n",
       "    </tr>\n",
       "    <tr>\n",
       "      <th>1</th>\n",
       "      <td>2019</td>\n",
       "      <td>SWG</td>\n",
       "      <td>3048.9</td>\n",
       "      <td>11.9</td>\n",
       "      <td>3.75</td>\n",
       "      <td>80</td>\n",
       "      <td>28000</td>\n",
       "      <td>11</td>\n",
       "      <td>25</td>\n",
       "      <td>1</td>\n",
       "      <td>0.51</td>\n",
       "      <td>4</td>\n",
       "    </tr>\n",
       "    <tr>\n",
       "      <th>2</th>\n",
       "      <td>2019</td>\n",
       "      <td>SWG</td>\n",
       "      <td>3538.7</td>\n",
       "      <td>19.5</td>\n",
       "      <td>3.75</td>\n",
       "      <td>80</td>\n",
       "      <td>28000</td>\n",
       "      <td>11</td>\n",
       "      <td>25</td>\n",
       "      <td>1</td>\n",
       "      <td>0.51</td>\n",
       "      <td>4</td>\n",
       "    </tr>\n",
       "    <tr>\n",
       "      <th>3</th>\n",
       "      <td>2019</td>\n",
       "      <td>SWG</td>\n",
       "      <td>4066.2</td>\n",
       "      <td>28.6</td>\n",
       "      <td>3.75</td>\n",
       "      <td>80</td>\n",
       "      <td>28000</td>\n",
       "      <td>11</td>\n",
       "      <td>25</td>\n",
       "      <td>1</td>\n",
       "      <td>0.51</td>\n",
       "      <td>4</td>\n",
       "    </tr>\n",
       "    <tr>\n",
       "      <th>4</th>\n",
       "      <td>2019</td>\n",
       "      <td>SWG</td>\n",
       "      <td>4574.9</td>\n",
       "      <td>36.6</td>\n",
       "      <td>3.75</td>\n",
       "      <td>80</td>\n",
       "      <td>28000</td>\n",
       "      <td>11</td>\n",
       "      <td>25</td>\n",
       "      <td>1</td>\n",
       "      <td>0.51</td>\n",
       "      <td>4</td>\n",
       "    </tr>\n",
       "  </tbody>\n",
       "</table>\n",
       "</div>"
      ],
      "text/plain": [
       "   year name      WOB  ROP data    Db  RPM    UCS  NOC  BR  SR    Dc  NOB\n",
       "0  2019   SWG  2543.8       6.2  3.75   80  28000   11  25   1  0.51    4\n",
       "1  2019   SWG  3048.9      11.9  3.75   80  28000   11  25   1  0.51    4\n",
       "2  2019   SWG  3538.7      19.5  3.75   80  28000   11  25   1  0.51    4\n",
       "3  2019   SWG  4066.2      28.6  3.75   80  28000   11  25   1  0.51    4\n",
       "4  2019   SWG  4574.9      36.6  3.75   80  28000   11  25   1  0.51    4"
      ]
     },
     "execution_count": 7,
     "metadata": {},
     "output_type": "execute_result"
    }
   ],
   "source": [
    "data = pd.read_csv(\"ROP data.csv\")\n",
    "data.head()"
   ]
  },
  {
   "cell_type": "code",
   "execution_count": 43,
   "metadata": {},
   "outputs": [],
   "source": [
    "WOB_list = list(data['WOB'])\n",
    "RPM_list = list(data['RPM'])\n",
    "Db_list = list(data['Db'])\n",
    "RS_list = list(data['UCS'])\n",
    "NOC_list = list(data['NOC'])\n",
    "NOB_list = list(data['NOB'])\n",
    "BR_list = list(data['BR'])\n",
    "SR_list = list(data['SR'])\n",
    "Dc_list = list(data['Dc'])\n",
    "\n",
    "ROP_data_list = list(data['ROP data'])"
   ]
  },
  {
   "cell_type": "markdown",
   "metadata": {},
   "source": [
    "### Comparison between model and data"
   ]
  },
  {
   "cell_type": "code",
   "execution_count": 44,
   "metadata": {},
   "outputs": [],
   "source": [
    "model_rop = [Akhtarmanesh_etal_ROP(WOB,RPM,RS,NOC,BR,SR,Dc,NOB,Db,IFA=1, Db_eff=1) \\\n",
    "             for (WOB,RPM,RS,NOC,BR,SR,Dc,NOB,Db) in \\\n",
    "             zip(WOB_list, RPM_list, RS_list,NOC_list, \n",
    "                 BR_list, SR_list,Dc_list, NOB_list,Db_list)]"
   ]
  },
  {
   "cell_type": "code",
   "execution_count": 49,
   "metadata": {},
   "outputs": [
    {
     "data": {
      "image/png": "[encoded data removed]",
      "text/plain": [
       "<Figure size 504x504 with 1 Axes>"
      ]
     },
     "metadata": {
      "needs_background": "light"
     },
     "output_type": "display_data"
    }
   ],
   "source": [
    "plt.figure(figsize=(7,7))\n",
    "plt.scatter(ROP_data_list, model_rop, c='k')\n",
    "# plt.xlim(0,60)\n",
    "plt.xlabel(\"ROP Data (ft/hr)\")\n",
    "# plt.ylim(0,60)\n",
    "plt.ylabel(\"PDC ROP Model estimation (ft/hr)\")\n",
    "plt.show()"
   ]
  },
  {
   "cell_type": "code",
   "execution_count": null,
   "metadata": {},
   "outputs": [],
   "source": []
  }
 ],
 "metadata": {
  "kernelspec": {
   "display_name": "Python 3",
   "language": "python",
   "name": "python3"
  },
  "language_info": {
   "codemirror_mode": {
    "name": "ipython",
    "version": 3
   },
   "file_extension": ".py",
   "mimetype": "text/x-python",
   "name": "python",
   "nbconvert_exporter": "python",
   "pygments_lexer": "ipython3",
   "version": "3.6.4"
  }
 },
 "nbformat": 4,
 "nbformat_minor": 2
}
