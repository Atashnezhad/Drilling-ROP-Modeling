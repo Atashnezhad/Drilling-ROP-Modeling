{
 "cells": [
  {
   "cell_type": "markdown",
   "metadata": {},
   "source": [
    "## PDC ROP model"
   ]
  },
  {
   "cell_type": "code",
   "execution_count": 1,
   "metadata": {},
   "outputs": [],
   "source": [
    "import numpy as np\n",
    "import pandas as pd\n",
    "import math\n",
    "import matplotlib.pylab as plt\n",
    "from scipy.optimize import curve_fit\n",
    "import seaborn as sns\n",
    "import itertools\n",
    "from math import pi\n",
    "from matplotlib.legend_handler import HandlerPatch\n",
    "from scipy.optimize import curve_fit\n",
    "from SALib.sample import saltelli\n",
    "from SALib.analyze import sobol\n"
   ]
  },
  {
   "cell_type": "markdown",
   "metadata": {},
   "source": [
    "### Model"
   ]
  },
  {
   "cell_type": "code",
   "execution_count": 2,
   "metadata": {},
   "outputs": [],
   "source": [
    "def Akhtarmanesh_etal_ROP(WOB,RPM,RS,NOC,BR,SR,Dc,NOB,Db):\n",
    "    \n",
    "\n",
    "\n",
    "    try:\n",
    "        \n",
    "        #Saman model phase I and II\n",
    "        WOCt = 270*((RPM/80)**0.1)*(11/NOC)*((math.tan(math.radians(BR))/math.tan(math.radians(25)))**0.2)*(Dc/0.51)*(RS/28000)\n",
    "        # print('WOCt = ', WOCt)                                               \n",
    "        DOCt = 0.018*((80/RPM)**0.3)*(11/NOC)*(Dc/0.51)\n",
    "        # print('DOCt = ', DOCt) \n",
    "        WOBt = WOCt*NOC\n",
    "        # print('WOBt = ', WOBt) \n",
    "        ROPt = DOCt*RPM*5\n",
    "        # print('ROPt = ', ROPt) \n",
    "        ARS = RS*(1+0.3*(RPM/100))\n",
    "        # print('ARS = ', ARS) \n",
    "\n",
    "        G = 880*((NOB**0.3)/(NOC**1.05))*(Dc*math.cos(math.radians(SR)))/(Db**2)*(math.tan(math.radians(BR))**0.2)\n",
    "        # print('G = ', G) \n",
    "        \n",
    "        if WOB < WOBt:\n",
    "\n",
    "\n",
    "            # phase I\n",
    "            ROP = 0.000002*G*((RPM**0.7)*(WOB**2.6))/ARS\n",
    "        else:\n",
    "            # phase II\n",
    "            ROP = G*(RPM*(WOB-WOBt))/ARS + ROPt\n",
    "            \n",
    "    except ZeroDivisionError:\n",
    "        \n",
    "        ROP = 999999\n",
    "        \n",
    "    return ROP"
   ]
  },
  {
   "cell_type": "markdown",
   "metadata": {},
   "source": [
    "### Data"
   ]
  },
  {
   "cell_type": "markdown",
   "metadata": {},
   "source": [
    "### Bits \n",
    "\n",
    "\n",
    "PDC bits manufactured by National Oil Varco - NOV (left) and Ulterra (right) are seen at the following image.\n",
    "<p align=\"left\">\n",
    "  <img  width=\"450\" src=\"NOV_bits.PNG\" >\n",
    "  <img  width=\"450\" src=\"Ulterra_bits.PNG\" >\n",
    "</p>\n",
    "\n",
    "### Data\n",
    "The four-row of data used in this study are seen in the following table.\n",
    "\n",
    "###### Table\n",
    "```\n",
    "|   year | name       |     WOB |   ROP data |   Db |   RPM |   UCS |   NOC |   BR |   SR |   Dc |   NOB |\n",
    "|--------|------------|---------|------------|------|-------|-------|-------|------|------|------|-------|\n",
    "|   2019 | SWG        | 2543.8  |    6.2     | 3.75 |    80 | 28000 |    11 |   25 |    1 | 0.51 |     4 |\n",
    "|   2019 | SWG        | 3048.9  |   11.9     | 3.75 |    80 | 28000 |    11 |   25 |    1 | 0.51 |     4 |\n",
    "|   2019 | SWG        | 3538.7  |   19.5     | 3.75 |    80 | 28000 |    11 |   25 |    1 | 0.51 |     4 |\n",
    "|   2019 | SWG        | 4066.2  |   28.6     | 3.75 |    80 | 28000 |    11 |   25 |    1 | 0.51 |     4 |\n",
    "```\n",
    "###### Data Dimensions\n",
    "\n",
    "```\n",
    "WOB is in lbf\n",
    "ROP data is in ft/hr\n",
    "Db is in inch\n",
    "RPM is in rpm\n",
    "UCS is in psi\n",
    "NOC is dimensionless\n",
    "BR is dimensionless\n",
    "Dc is in inch\n",
    "NOB is dimensionless\n",
    "```"
   ]
  },
  {
   "cell_type": "markdown",
   "metadata": {},
   "source": [
    "### Read data"
   ]
  },
  {
   "cell_type": "code",
   "execution_count": 3,
   "metadata": {},
   "outputs": [
    {
     "data": {
      "text/html": [
       "<div>\n",
       "<style scoped>\n",
       "    .dataframe tbody tr th:only-of-type {\n",
       "        vertical-align: middle;\n",
       "    }\n",
       "\n",
       "    .dataframe tbody tr th {\n",
       "        vertical-align: top;\n",
       "    }\n",
       "\n",
       "    .dataframe thead th {\n",
       "        text-align: right;\n",
       "    }\n",
       "</style>\n",
       "<table border=\"1\" class=\"dataframe\">\n",
       "  <thead>\n",
       "    <tr style=\"text-align: right;\">\n",
       "      <th></th>\n",
       "      <th>year</th>\n",
       "      <th>name</th>\n",
       "      <th>WOB</th>\n",
       "      <th>ROP data</th>\n",
       "      <th>Db</th>\n",
       "      <th>RPM</th>\n",
       "      <th>UCS</th>\n",
       "      <th>NOC</th>\n",
       "      <th>BR</th>\n",
       "      <th>SR</th>\n",
       "      <th>Dc</th>\n",
       "      <th>NOB</th>\n",
       "    </tr>\n",
       "  </thead>\n",
       "  <tbody>\n",
       "    <tr>\n",
       "      <th>0</th>\n",
       "      <td>2015</td>\n",
       "      <td>SWG_4B_100</td>\n",
       "      <td>2300</td>\n",
       "      <td>9.9</td>\n",
       "      <td>3.75</td>\n",
       "      <td>100</td>\n",
       "      <td>28000</td>\n",
       "      <td>8</td>\n",
       "      <td>15</td>\n",
       "      <td>1</td>\n",
       "      <td>0.43</td>\n",
       "      <td>4</td>\n",
       "    </tr>\n",
       "    <tr>\n",
       "      <th>1</th>\n",
       "      <td>2015</td>\n",
       "      <td>SWG_4B_100</td>\n",
       "      <td>2420</td>\n",
       "      <td>11.0</td>\n",
       "      <td>3.75</td>\n",
       "      <td>100</td>\n",
       "      <td>28000</td>\n",
       "      <td>8</td>\n",
       "      <td>15</td>\n",
       "      <td>1</td>\n",
       "      <td>0.43</td>\n",
       "      <td>4</td>\n",
       "    </tr>\n",
       "    <tr>\n",
       "      <th>2</th>\n",
       "      <td>2015</td>\n",
       "      <td>SWG_4B_100</td>\n",
       "      <td>2660</td>\n",
       "      <td>14.7</td>\n",
       "      <td>3.75</td>\n",
       "      <td>100</td>\n",
       "      <td>28000</td>\n",
       "      <td>8</td>\n",
       "      <td>15</td>\n",
       "      <td>1</td>\n",
       "      <td>0.43</td>\n",
       "      <td>4</td>\n",
       "    </tr>\n",
       "    <tr>\n",
       "      <th>3</th>\n",
       "      <td>2015</td>\n",
       "      <td>SWG_4B_100</td>\n",
       "      <td>2910</td>\n",
       "      <td>18.1</td>\n",
       "      <td>3.75</td>\n",
       "      <td>100</td>\n",
       "      <td>28000</td>\n",
       "      <td>8</td>\n",
       "      <td>15</td>\n",
       "      <td>1</td>\n",
       "      <td>0.43</td>\n",
       "      <td>4</td>\n",
       "    </tr>\n",
       "    <tr>\n",
       "      <th>4</th>\n",
       "      <td>2015</td>\n",
       "      <td>SWG_4B_100</td>\n",
       "      <td>3180</td>\n",
       "      <td>22.6</td>\n",
       "      <td>3.75</td>\n",
       "      <td>100</td>\n",
       "      <td>28000</td>\n",
       "      <td>8</td>\n",
       "      <td>15</td>\n",
       "      <td>1</td>\n",
       "      <td>0.43</td>\n",
       "      <td>4</td>\n",
       "    </tr>\n",
       "  </tbody>\n",
       "</table>\n",
       "</div>"
      ],
      "text/plain": [
       "   year       name    WOB  ROP data    Db  RPM    UCS  NOC  BR  SR    Dc  NOB\n",
       "0  2015  SWG_4B_100  2300       9.9  3.75  100  28000    8  15   1  0.43    4\n",
       "1  2015  SWG_4B_100  2420      11.0  3.75  100  28000    8  15   1  0.43    4\n",
       "2  2015  SWG_4B_100  2660      14.7  3.75  100  28000    8  15   1  0.43    4\n",
       "3  2015  SWG_4B_100  2910      18.1  3.75  100  28000    8  15   1  0.43    4\n",
       "4  2015  SWG_4B_100  3180      22.6  3.75  100  28000    8  15   1  0.43    4"
      ]
     },
     "execution_count": 3,
     "metadata": {},
     "output_type": "execute_result"
    }
   ],
   "source": [
    "data = pd.read_csv(\"ROP data.csv\")\n",
    "data.head()"
   ]
  },
  {
   "cell_type": "code",
   "execution_count": 4,
   "metadata": {},
   "outputs": [
    {
     "data": {
      "text/html": [
       "<div>\n",
       "<style scoped>\n",
       "    .dataframe tbody tr th:only-of-type {\n",
       "        vertical-align: middle;\n",
       "    }\n",
       "\n",
       "    .dataframe tbody tr th {\n",
       "        vertical-align: top;\n",
       "    }\n",
       "\n",
       "    .dataframe thead th {\n",
       "        text-align: right;\n",
       "    }\n",
       "</style>\n",
       "<table border=\"1\" class=\"dataframe\">\n",
       "  <thead>\n",
       "    <tr style=\"text-align: right;\">\n",
       "      <th></th>\n",
       "      <th>year</th>\n",
       "      <th>name</th>\n",
       "      <th>WOB</th>\n",
       "      <th>ROP data</th>\n",
       "      <th>Db</th>\n",
       "      <th>RPM</th>\n",
       "      <th>UCS</th>\n",
       "      <th>NOC</th>\n",
       "      <th>BR</th>\n",
       "      <th>SR</th>\n",
       "      <th>Dc</th>\n",
       "      <th>NOB</th>\n",
       "    </tr>\n",
       "  </thead>\n",
       "  <tbody>\n",
       "    <tr>\n",
       "      <th>78</th>\n",
       "      <td>2020</td>\n",
       "      <td>SWG</td>\n",
       "      <td>3019</td>\n",
       "      <td>9.2</td>\n",
       "      <td>3.75</td>\n",
       "      <td>160</td>\n",
       "      <td>28000</td>\n",
       "      <td>13</td>\n",
       "      <td>25</td>\n",
       "      <td>1</td>\n",
       "      <td>0.51</td>\n",
       "      <td>5</td>\n",
       "    </tr>\n",
       "    <tr>\n",
       "      <th>79</th>\n",
       "      <td>2020</td>\n",
       "      <td>SWG</td>\n",
       "      <td>3520</td>\n",
       "      <td>13.6</td>\n",
       "      <td>3.75</td>\n",
       "      <td>160</td>\n",
       "      <td>28000</td>\n",
       "      <td>13</td>\n",
       "      <td>25</td>\n",
       "      <td>1</td>\n",
       "      <td>0.51</td>\n",
       "      <td>5</td>\n",
       "    </tr>\n",
       "    <tr>\n",
       "      <th>80</th>\n",
       "      <td>2020</td>\n",
       "      <td>SWG</td>\n",
       "      <td>4017</td>\n",
       "      <td>20.1</td>\n",
       "      <td>3.75</td>\n",
       "      <td>160</td>\n",
       "      <td>28000</td>\n",
       "      <td>13</td>\n",
       "      <td>25</td>\n",
       "      <td>1</td>\n",
       "      <td>0.51</td>\n",
       "      <td>5</td>\n",
       "    </tr>\n",
       "    <tr>\n",
       "      <th>81</th>\n",
       "      <td>2020</td>\n",
       "      <td>SWG</td>\n",
       "      <td>4520</td>\n",
       "      <td>27.7</td>\n",
       "      <td>3.75</td>\n",
       "      <td>160</td>\n",
       "      <td>28000</td>\n",
       "      <td>13</td>\n",
       "      <td>25</td>\n",
       "      <td>1</td>\n",
       "      <td>0.51</td>\n",
       "      <td>5</td>\n",
       "    </tr>\n",
       "    <tr>\n",
       "      <th>82</th>\n",
       "      <td>2021</td>\n",
       "      <td>SWG</td>\n",
       "      <td>5016</td>\n",
       "      <td>37.3</td>\n",
       "      <td>3.75</td>\n",
       "      <td>160</td>\n",
       "      <td>28000</td>\n",
       "      <td>13</td>\n",
       "      <td>25</td>\n",
       "      <td>1</td>\n",
       "      <td>0.51</td>\n",
       "      <td>5</td>\n",
       "    </tr>\n",
       "  </tbody>\n",
       "</table>\n",
       "</div>"
      ],
      "text/plain": [
       "    year name    WOB  ROP data    Db  RPM    UCS  NOC  BR  SR    Dc  NOB\n",
       "78  2020   SWG  3019       9.2  3.75  160  28000   13  25   1  0.51    5\n",
       "79  2020   SWG  3520      13.6  3.75  160  28000   13  25   1  0.51    5\n",
       "80  2020   SWG  4017      20.1  3.75  160  28000   13  25   1  0.51    5\n",
       "81  2020   SWG  4520      27.7  3.75  160  28000   13  25   1  0.51    5\n",
       "82  2021   SWG  5016      37.3  3.75  160  28000   13  25   1  0.51    5"
      ]
     },
     "execution_count": 4,
     "metadata": {},
     "output_type": "execute_result"
    }
   ],
   "source": [
    "data.tail()"
   ]
  },
  {
   "cell_type": "code",
   "execution_count": 5,
   "metadata": {},
   "outputs": [],
   "source": [
    "WOB_list = list(data['WOB'])\n",
    "RPM_list = list(data['RPM'])\n",
    "Db_list = list(data['Db'])\n",
    "RS_list = list(data['UCS'])\n",
    "NOC_list = list(data['NOC'])\n",
    "NOB_list = list(data['NOB'])\n",
    "BR_list = list(data['BR'])\n",
    "SR_list = list(data['SR'])\n",
    "Dc_list = list(data['Dc'])\n",
    "\n",
    "ROP_data_list = list(data['ROP data'])"
   ]
  },
  {
   "cell_type": "markdown",
   "metadata": {},
   "source": [
    "### Comparison between model and data"
   ]
  },
  {
   "cell_type": "code",
   "execution_count": 6,
   "metadata": {},
   "outputs": [],
   "source": [
    "model_rop = [Akhtarmanesh_etal_ROP(WOB,RPM,RS,NOC,BR,SR,Dc,NOB,Db) \\\n",
    "             for (WOB,RPM,RS,NOC,BR,SR,Dc,NOB,Db) in \\\n",
    "             zip(WOB_list, RPM_list, RS_list,NOC_list, \n",
    "                 BR_list, SR_list,Dc_list, NOB_list,Db_list)]"
   ]
  },
  {
   "cell_type": "code",
   "execution_count": 7,
   "metadata": {},
   "outputs": [
    {
     "data": {
      "image/png": "[encoded data removed]",
      "text/plain": [
       "<Figure size 504x504 with 1 Axes>"
      ]
     },
     "metadata": {
      "needs_background": "light"
     },
     "output_type": "display_data"
    }
   ],
   "source": [
    "plt.figure(figsize=(7,7))\n",
    "plt.scatter(ROP_data_list, model_rop, c='k')\n",
    "plt.xlim(0,80)\n",
    "plt.xlabel(\"ROP Data (ft/hr)\")\n",
    "plt.ylim(0,80)\n",
    "plt.ylabel(\"PDC ROP Model estimation (ft/hr)\")\n",
    "plt.show()"
   ]
  },
  {
   "cell_type": "markdown",
   "metadata": {},
   "source": [
    "### Parameters Interaction Visualization "
   ]
  },
  {
   "cell_type": "code",
   "execution_count": 8,
   "metadata": {},
   "outputs": [],
   "source": [
    "problem = {\n",
    "    'num_vars': 9,\n",
    "    'names': ['WOB','RPM','RS','NOC','BR','SR','Dc','NOB','Db'],\n",
    "    'bounds': [[1000,10_000],\n",
    "              [30,350],\n",
    "              [10_000,35_000],\n",
    "              [4,15],\n",
    "              [5,25],\n",
    "              [1,3],\n",
    "              [0.4,0.75],\n",
    "              [4,15],\n",
    "              [3,12.25]]}"
   ]
  },
  {
   "cell_type": "code",
   "execution_count": 9,
   "metadata": {},
   "outputs": [],
   "source": [
    "def evaluate_model(row):\n",
    "    WOB,RPM,RS,NOC,BR,SR,Dc,NOB,Db = row\n",
    "    ROP = Akhtarmanesh_etal_ROP(WOB,RPM,RS,NOC,BR,SR,Dc,NOB,Db)\n",
    "    return ROP"
   ]
  },
  {
   "cell_type": "code",
   "execution_count": 10,
   "metadata": {},
   "outputs": [],
   "source": [
    "param_values = saltelli.sample(problem, 1024)\n",
    "\n",
    "Y = np.zeros([param_values.shape[0]])\n",
    "for i, X in enumerate(param_values):\n",
    "    Y[i] = evaluate_model(X)"
   ]
  },
  {
   "cell_type": "code",
   "execution_count": 11,
   "metadata": {},
   "outputs": [
    {
     "data": {
      "text/html": [
       "<div>\n",
       "<style scoped>\n",
       "    .dataframe tbody tr th:only-of-type {\n",
       "        vertical-align: middle;\n",
       "    }\n",
       "\n",
       "    .dataframe tbody tr th {\n",
       "        vertical-align: top;\n",
       "    }\n",
       "\n",
       "    .dataframe thead th {\n",
       "        text-align: right;\n",
       "    }\n",
       "</style>\n",
       "<table border=\"1\" class=\"dataframe\">\n",
       "  <thead>\n",
       "    <tr style=\"text-align: right;\">\n",
       "      <th></th>\n",
       "      <th>ST</th>\n",
       "      <th>ST_conf</th>\n",
       "      <th>S1</th>\n",
       "      <th>S1_conf</th>\n",
       "    </tr>\n",
       "  </thead>\n",
       "  <tbody>\n",
       "    <tr>\n",
       "      <th>WOB</th>\n",
       "      <td>3.277847e-01</td>\n",
       "      <td>1.061843e-01</td>\n",
       "      <td>0.138076</td>\n",
       "      <td>0.041958</td>\n",
       "    </tr>\n",
       "    <tr>\n",
       "      <th>RPM</th>\n",
       "      <td>1.527642e-01</td>\n",
       "      <td>7.362946e-02</td>\n",
       "      <td>0.048794</td>\n",
       "      <td>0.029699</td>\n",
       "    </tr>\n",
       "    <tr>\n",
       "      <th>RS</th>\n",
       "      <td>2.552742e-01</td>\n",
       "      <td>7.893456e-02</td>\n",
       "      <td>0.064175</td>\n",
       "      <td>0.035010</td>\n",
       "    </tr>\n",
       "    <tr>\n",
       "      <th>NOC</th>\n",
       "      <td>1.905242e-01</td>\n",
       "      <td>5.734078e-02</td>\n",
       "      <td>0.110928</td>\n",
       "      <td>0.050074</td>\n",
       "    </tr>\n",
       "    <tr>\n",
       "      <th>BR</th>\n",
       "      <td>3.963340e-03</td>\n",
       "      <td>1.380462e-03</td>\n",
       "      <td>-0.002735</td>\n",
       "      <td>0.004934</td>\n",
       "    </tr>\n",
       "    <tr>\n",
       "      <th>SR</th>\n",
       "      <td>1.046011e-07</td>\n",
       "      <td>2.874359e-08</td>\n",
       "      <td>0.000011</td>\n",
       "      <td>0.000033</td>\n",
       "    </tr>\n",
       "    <tr>\n",
       "      <th>Dc</th>\n",
       "      <td>1.538126e-02</td>\n",
       "      <td>3.855035e-03</td>\n",
       "      <td>0.009629</td>\n",
       "      <td>0.010511</td>\n",
       "    </tr>\n",
       "    <tr>\n",
       "      <th>NOB</th>\n",
       "      <td>9.962552e-03</td>\n",
       "      <td>3.684991e-03</td>\n",
       "      <td>0.004548</td>\n",
       "      <td>0.008946</td>\n",
       "    </tr>\n",
       "    <tr>\n",
       "      <th>Db</th>\n",
       "      <td>4.744937e-01</td>\n",
       "      <td>1.144039e-01</td>\n",
       "      <td>0.296376</td>\n",
       "      <td>0.125259</td>\n",
       "    </tr>\n",
       "  </tbody>\n",
       "</table>\n",
       "</div>"
      ],
      "text/plain": [
       "               ST       ST_conf        S1   S1_conf\n",
       "WOB  3.277847e-01  1.061843e-01  0.138076  0.041958\n",
       "RPM  1.527642e-01  7.362946e-02  0.048794  0.029699\n",
       "RS   2.552742e-01  7.893456e-02  0.064175  0.035010\n",
       "NOC  1.905242e-01  5.734078e-02  0.110928  0.050074\n",
       "BR   3.963340e-03  1.380462e-03 -0.002735  0.004934\n",
       "SR   1.046011e-07  2.874359e-08  0.000011  0.000033\n",
       "Dc   1.538126e-02  3.855035e-03  0.009629  0.010511\n",
       "NOB  9.962552e-03  3.684991e-03  0.004548  0.008946\n",
       "Db   4.744937e-01  1.144039e-01  0.296376  0.125259"
      ]
     },
     "execution_count": 11,
     "metadata": {},
     "output_type": "execute_result"
    }
   ],
   "source": [
    "Si = sobol.analyze(problem, Y, print_to_console=False)\n",
    "Si_filter = {k:Si[k] for k in ['ST','ST_conf','S1','S1_conf']}\n",
    "Si_df = pd.DataFrame(Si_filter, index=problem['names'])\n",
    "Si_df"
   ]
  },
  {
   "cell_type": "code",
   "execution_count": 12,
   "metadata": {},
   "outputs": [],
   "source": [
    "import Interaction_Viz "
   ]
  },
  {
   "cell_type": "code",
   "execution_count": 19,
   "metadata": {},
   "outputs": [
    {
     "data": {
      "image/png": "[encoded data removed]",
      "text/plain": [
       "<Figure size 504x504 with 1 Axes>"
      ]
     },
     "metadata": {},
     "output_type": "display_data"
    }
   ],
   "source": [
    "Interaction_Viz.Apply(Si, problem, threshold=0.0005)"
   ]
  },
  {
   "cell_type": "markdown",
   "metadata": {},
   "source": [
    "Based on sensitivity analysis one can see that the main parameters are bit diameter, weight on bit, RPM, rock strength, number of cutters. It is also seen the second-order interaction between independent parameters. It is seen that mathematically there is a big interaction between RS and bit diameter, bit diameter and weight on bit, and RPM with Db. Note that these interactions are from mathematical perspective and does not necessarily represent physics."
   ]
  },
  {
   "cell_type": "code",
   "execution_count": null,
   "metadata": {},
   "outputs": [],
   "source": []
  }
 ],
 "metadata": {
  "kernelspec": {
   "display_name": "Python 3",
   "language": "python",
   "name": "python3"
  },
  "language_info": {
   "codemirror_mode": {
    "name": "ipython",
    "version": 3
   },
   "file_extension": ".py",
   "mimetype": "text/x-python",
   "name": "python",
   "nbconvert_exporter": "python",
   "pygments_lexer": "ipython3",
   "version": "3.6.4"
  }
 },
 "nbformat": 4,
 "nbformat_minor": 2
}
