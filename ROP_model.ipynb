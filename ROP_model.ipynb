{
 "cells": [
  {
   "cell_type": "code",
   "execution_count": 30,
   "source": [
    "import pandas as pd\r\n",
    "import numpy as np\r\n",
    "from pysr import pysr, best\r\n",
    "from sklearn import preprocessing\r\n",
    "\r\n",
    "import matplotlib.pylab as plt\r\n",
    "\r\n",
    "import seaborn as sns\r\n",
    "from sklearn.metrics import confusion_matrix\r\n",
    "from sklearn.metrics import accuracy_score\r\n",
    "\r\n",
    "import math"
   ],
   "outputs": [],
   "metadata": {}
  },
  {
   "cell_type": "code",
   "execution_count": 31,
   "source": [
    "data = pd.read_csv(\"ROP data.csv\")"
   ],
   "outputs": [],
   "metadata": {}
  },
  {
   "cell_type": "code",
   "execution_count": 32,
   "source": [
    "data.head()"
   ],
   "outputs": [
    {
     "output_type": "execute_result",
     "data": {
      "text/plain": [
       "   year name      WOB  ROP data    Db  RPM    UCS  NOC  BR  SR    Dc  NOB\n",
       "0  2019   SWG  2543.8       6.2  3.75   80  28000   11  25   1  0.51    4\n",
       "1  2019   SWG  3048.9      11.9  3.75   80  28000   11  25   1  0.51    4\n",
       "2  2019   SWG  3538.7      19.5  3.75   80  28000   11  25   1  0.51    4\n",
       "3  2019   SWG  4066.2      28.6  3.75   80  28000   11  25   1  0.51    4\n",
       "4  2019   SWG  4574.9      36.6  3.75   80  28000   11  25   1  0.51    4"
      ],
      "text/html": [
       "<div>\n",
       "<style scoped>\n",
       "    .dataframe tbody tr th:only-of-type {\n",
       "        vertical-align: middle;\n",
       "    }\n",
       "\n",
       "    .dataframe tbody tr th {\n",
       "        vertical-align: top;\n",
       "    }\n",
       "\n",
       "    .dataframe thead th {\n",
       "        text-align: right;\n",
       "    }\n",
       "</style>\n",
       "<table border=\"1\" class=\"dataframe\">\n",
       "  <thead>\n",
       "    <tr style=\"text-align: right;\">\n",
       "      <th></th>\n",
       "      <th>year</th>\n",
       "      <th>name</th>\n",
       "      <th>WOB</th>\n",
       "      <th>ROP data</th>\n",
       "      <th>Db</th>\n",
       "      <th>RPM</th>\n",
       "      <th>UCS</th>\n",
       "      <th>NOC</th>\n",
       "      <th>BR</th>\n",
       "      <th>SR</th>\n",
       "      <th>Dc</th>\n",
       "      <th>NOB</th>\n",
       "    </tr>\n",
       "  </thead>\n",
       "  <tbody>\n",
       "    <tr>\n",
       "      <th>0</th>\n",
       "      <td>2019</td>\n",
       "      <td>SWG</td>\n",
       "      <td>2543.8</td>\n",
       "      <td>6.2</td>\n",
       "      <td>3.75</td>\n",
       "      <td>80</td>\n",
       "      <td>28000</td>\n",
       "      <td>11</td>\n",
       "      <td>25</td>\n",
       "      <td>1</td>\n",
       "      <td>0.51</td>\n",
       "      <td>4</td>\n",
       "    </tr>\n",
       "    <tr>\n",
       "      <th>1</th>\n",
       "      <td>2019</td>\n",
       "      <td>SWG</td>\n",
       "      <td>3048.9</td>\n",
       "      <td>11.9</td>\n",
       "      <td>3.75</td>\n",
       "      <td>80</td>\n",
       "      <td>28000</td>\n",
       "      <td>11</td>\n",
       "      <td>25</td>\n",
       "      <td>1</td>\n",
       "      <td>0.51</td>\n",
       "      <td>4</td>\n",
       "    </tr>\n",
       "    <tr>\n",
       "      <th>2</th>\n",
       "      <td>2019</td>\n",
       "      <td>SWG</td>\n",
       "      <td>3538.7</td>\n",
       "      <td>19.5</td>\n",
       "      <td>3.75</td>\n",
       "      <td>80</td>\n",
       "      <td>28000</td>\n",
       "      <td>11</td>\n",
       "      <td>25</td>\n",
       "      <td>1</td>\n",
       "      <td>0.51</td>\n",
       "      <td>4</td>\n",
       "    </tr>\n",
       "    <tr>\n",
       "      <th>3</th>\n",
       "      <td>2019</td>\n",
       "      <td>SWG</td>\n",
       "      <td>4066.2</td>\n",
       "      <td>28.6</td>\n",
       "      <td>3.75</td>\n",
       "      <td>80</td>\n",
       "      <td>28000</td>\n",
       "      <td>11</td>\n",
       "      <td>25</td>\n",
       "      <td>1</td>\n",
       "      <td>0.51</td>\n",
       "      <td>4</td>\n",
       "    </tr>\n",
       "    <tr>\n",
       "      <th>4</th>\n",
       "      <td>2019</td>\n",
       "      <td>SWG</td>\n",
       "      <td>4574.9</td>\n",
       "      <td>36.6</td>\n",
       "      <td>3.75</td>\n",
       "      <td>80</td>\n",
       "      <td>28000</td>\n",
       "      <td>11</td>\n",
       "      <td>25</td>\n",
       "      <td>1</td>\n",
       "      <td>0.51</td>\n",
       "      <td>4</td>\n",
       "    </tr>\n",
       "  </tbody>\n",
       "</table>\n",
       "</div>"
      ]
     },
     "metadata": {},
     "execution_count": 32
    }
   ],
   "metadata": {}
  },
  {
   "cell_type": "code",
   "execution_count": 33,
   "source": [
    "data.columns"
   ],
   "outputs": [
    {
     "output_type": "execute_result",
     "data": {
      "text/plain": [
       "Index(['year', 'name ', 'WOB', 'ROP data', 'Db', 'RPM', 'UCS', 'NOC', 'BR',\n",
       "       'SR', 'Dc', 'NOB'],\n",
       "      dtype='object')"
      ]
     },
     "metadata": {},
     "execution_count": 33
    }
   ],
   "metadata": {}
  },
  {
   "cell_type": "code",
   "execution_count": 34,
   "source": [
    "keep_clmns = ['WOB', 'Db', 'RPM', 'UCS', 'NOC', 'BR', 'SR', 'Dc', 'NOB']\r\n",
    "X = data[keep_clmns]\r\n",
    "\r\n",
    "keep_clmns = ['ROP data',]\r\n",
    "Y = data[keep_clmns]"
   ],
   "outputs": [],
   "metadata": {}
  },
  {
   "cell_type": "code",
   "execution_count": 35,
   "source": [
    "X.head()"
   ],
   "outputs": [
    {
     "output_type": "execute_result",
     "data": {
      "text/plain": [
       "      WOB    Db  RPM    UCS  NOC  BR  SR    Dc  NOB\n",
       "0  2543.8  3.75   80  28000   11  25   1  0.51    4\n",
       "1  3048.9  3.75   80  28000   11  25   1  0.51    4\n",
       "2  3538.7  3.75   80  28000   11  25   1  0.51    4\n",
       "3  4066.2  3.75   80  28000   11  25   1  0.51    4\n",
       "4  4574.9  3.75   80  28000   11  25   1  0.51    4"
      ],
      "text/html": [
       "<div>\n",
       "<style scoped>\n",
       "    .dataframe tbody tr th:only-of-type {\n",
       "        vertical-align: middle;\n",
       "    }\n",
       "\n",
       "    .dataframe tbody tr th {\n",
       "        vertical-align: top;\n",
       "    }\n",
       "\n",
       "    .dataframe thead th {\n",
       "        text-align: right;\n",
       "    }\n",
       "</style>\n",
       "<table border=\"1\" class=\"dataframe\">\n",
       "  <thead>\n",
       "    <tr style=\"text-align: right;\">\n",
       "      <th></th>\n",
       "      <th>WOB</th>\n",
       "      <th>Db</th>\n",
       "      <th>RPM</th>\n",
       "      <th>UCS</th>\n",
       "      <th>NOC</th>\n",
       "      <th>BR</th>\n",
       "      <th>SR</th>\n",
       "      <th>Dc</th>\n",
       "      <th>NOB</th>\n",
       "    </tr>\n",
       "  </thead>\n",
       "  <tbody>\n",
       "    <tr>\n",
       "      <th>0</th>\n",
       "      <td>2543.8</td>\n",
       "      <td>3.75</td>\n",
       "      <td>80</td>\n",
       "      <td>28000</td>\n",
       "      <td>11</td>\n",
       "      <td>25</td>\n",
       "      <td>1</td>\n",
       "      <td>0.51</td>\n",
       "      <td>4</td>\n",
       "    </tr>\n",
       "    <tr>\n",
       "      <th>1</th>\n",
       "      <td>3048.9</td>\n",
       "      <td>3.75</td>\n",
       "      <td>80</td>\n",
       "      <td>28000</td>\n",
       "      <td>11</td>\n",
       "      <td>25</td>\n",
       "      <td>1</td>\n",
       "      <td>0.51</td>\n",
       "      <td>4</td>\n",
       "    </tr>\n",
       "    <tr>\n",
       "      <th>2</th>\n",
       "      <td>3538.7</td>\n",
       "      <td>3.75</td>\n",
       "      <td>80</td>\n",
       "      <td>28000</td>\n",
       "      <td>11</td>\n",
       "      <td>25</td>\n",
       "      <td>1</td>\n",
       "      <td>0.51</td>\n",
       "      <td>4</td>\n",
       "    </tr>\n",
       "    <tr>\n",
       "      <th>3</th>\n",
       "      <td>4066.2</td>\n",
       "      <td>3.75</td>\n",
       "      <td>80</td>\n",
       "      <td>28000</td>\n",
       "      <td>11</td>\n",
       "      <td>25</td>\n",
       "      <td>1</td>\n",
       "      <td>0.51</td>\n",
       "      <td>4</td>\n",
       "    </tr>\n",
       "    <tr>\n",
       "      <th>4</th>\n",
       "      <td>4574.9</td>\n",
       "      <td>3.75</td>\n",
       "      <td>80</td>\n",
       "      <td>28000</td>\n",
       "      <td>11</td>\n",
       "      <td>25</td>\n",
       "      <td>1</td>\n",
       "      <td>0.51</td>\n",
       "      <td>4</td>\n",
       "    </tr>\n",
       "  </tbody>\n",
       "</table>\n",
       "</div>"
      ]
     },
     "metadata": {},
     "execution_count": 35
    }
   ],
   "metadata": {}
  },
  {
   "cell_type": "code",
   "execution_count": 36,
   "source": [
    "Y.head()"
   ],
   "outputs": [
    {
     "output_type": "execute_result",
     "data": {
      "text/plain": [
       "   ROP data\n",
       "0       6.2\n",
       "1      11.9\n",
       "2      19.5\n",
       "3      28.6\n",
       "4      36.6"
      ],
      "text/html": [
       "<div>\n",
       "<style scoped>\n",
       "    .dataframe tbody tr th:only-of-type {\n",
       "        vertical-align: middle;\n",
       "    }\n",
       "\n",
       "    .dataframe tbody tr th {\n",
       "        vertical-align: top;\n",
       "    }\n",
       "\n",
       "    .dataframe thead th {\n",
       "        text-align: right;\n",
       "    }\n",
       "</style>\n",
       "<table border=\"1\" class=\"dataframe\">\n",
       "  <thead>\n",
       "    <tr style=\"text-align: right;\">\n",
       "      <th></th>\n",
       "      <th>ROP data</th>\n",
       "    </tr>\n",
       "  </thead>\n",
       "  <tbody>\n",
       "    <tr>\n",
       "      <th>0</th>\n",
       "      <td>6.2</td>\n",
       "    </tr>\n",
       "    <tr>\n",
       "      <th>1</th>\n",
       "      <td>11.9</td>\n",
       "    </tr>\n",
       "    <tr>\n",
       "      <th>2</th>\n",
       "      <td>19.5</td>\n",
       "    </tr>\n",
       "    <tr>\n",
       "      <th>3</th>\n",
       "      <td>28.6</td>\n",
       "    </tr>\n",
       "    <tr>\n",
       "      <th>4</th>\n",
       "      <td>36.6</td>\n",
       "    </tr>\n",
       "  </tbody>\n",
       "</table>\n",
       "</div>"
      ]
     },
     "metadata": {},
     "execution_count": 36
    }
   ],
   "metadata": {}
  },
  {
   "cell_type": "code",
   "execution_count": 37,
   "source": [
    "X.describe().T"
   ],
   "outputs": [
    {
     "output_type": "execute_result",
     "data": {
      "text/plain": [
       "     count          mean          std      min       25%          50%  \\\n",
       "WOB   88.0   2967.525501   986.156551  1090.00   2287.50   3033.55165   \n",
       "Db    88.0      3.750000     0.000000     3.75      3.75      3.75000   \n",
       "RPM   88.0    123.636364    28.169512    80.00    100.00    120.00000   \n",
       "UCS   88.0  24437.500000  7904.099220  7100.00  28000.00  28000.00000   \n",
       "NOC   88.0     12.454545     2.094926    11.00     11.00     11.00000   \n",
       "BR    88.0     19.204545     4.964608    15.00     15.00     15.00000   \n",
       "SR    88.0      1.000000     0.000000     1.00      1.00      1.00000   \n",
       "Dc    88.0      0.463636     0.039717     0.43      0.43      0.43000   \n",
       "NOB   88.0      4.454545     0.500783     4.00      4.00      4.00000   \n",
       "\n",
       "          75%           max  \n",
       "WOB   3692.50   5088.248694  \n",
       "Db       3.75      3.750000  \n",
       "RPM    150.00    160.000000  \n",
       "UCS  28000.00  28000.000000  \n",
       "NOC     13.00     16.000000  \n",
       "BR      25.00     25.000000  \n",
       "SR       1.00      1.000000  \n",
       "Dc       0.51      0.510000  \n",
       "NOB      5.00      5.000000  "
      ],
      "text/html": [
       "<div>\n",
       "<style scoped>\n",
       "    .dataframe tbody tr th:only-of-type {\n",
       "        vertical-align: middle;\n",
       "    }\n",
       "\n",
       "    .dataframe tbody tr th {\n",
       "        vertical-align: top;\n",
       "    }\n",
       "\n",
       "    .dataframe thead th {\n",
       "        text-align: right;\n",
       "    }\n",
       "</style>\n",
       "<table border=\"1\" class=\"dataframe\">\n",
       "  <thead>\n",
       "    <tr style=\"text-align: right;\">\n",
       "      <th></th>\n",
       "      <th>count</th>\n",
       "      <th>mean</th>\n",
       "      <th>std</th>\n",
       "      <th>min</th>\n",
       "      <th>25%</th>\n",
       "      <th>50%</th>\n",
       "      <th>75%</th>\n",
       "      <th>max</th>\n",
       "    </tr>\n",
       "  </thead>\n",
       "  <tbody>\n",
       "    <tr>\n",
       "      <th>WOB</th>\n",
       "      <td>88.0</td>\n",
       "      <td>2967.525501</td>\n",
       "      <td>986.156551</td>\n",
       "      <td>1090.00</td>\n",
       "      <td>2287.50</td>\n",
       "      <td>3033.55165</td>\n",
       "      <td>3692.50</td>\n",
       "      <td>5088.248694</td>\n",
       "    </tr>\n",
       "    <tr>\n",
       "      <th>Db</th>\n",
       "      <td>88.0</td>\n",
       "      <td>3.750000</td>\n",
       "      <td>0.000000</td>\n",
       "      <td>3.75</td>\n",
       "      <td>3.75</td>\n",
       "      <td>3.75000</td>\n",
       "      <td>3.75</td>\n",
       "      <td>3.750000</td>\n",
       "    </tr>\n",
       "    <tr>\n",
       "      <th>RPM</th>\n",
       "      <td>88.0</td>\n",
       "      <td>123.636364</td>\n",
       "      <td>28.169512</td>\n",
       "      <td>80.00</td>\n",
       "      <td>100.00</td>\n",
       "      <td>120.00000</td>\n",
       "      <td>150.00</td>\n",
       "      <td>160.000000</td>\n",
       "    </tr>\n",
       "    <tr>\n",
       "      <th>UCS</th>\n",
       "      <td>88.0</td>\n",
       "      <td>24437.500000</td>\n",
       "      <td>7904.099220</td>\n",
       "      <td>7100.00</td>\n",
       "      <td>28000.00</td>\n",
       "      <td>28000.00000</td>\n",
       "      <td>28000.00</td>\n",
       "      <td>28000.000000</td>\n",
       "    </tr>\n",
       "    <tr>\n",
       "      <th>NOC</th>\n",
       "      <td>88.0</td>\n",
       "      <td>12.454545</td>\n",
       "      <td>2.094926</td>\n",
       "      <td>11.00</td>\n",
       "      <td>11.00</td>\n",
       "      <td>11.00000</td>\n",
       "      <td>13.00</td>\n",
       "      <td>16.000000</td>\n",
       "    </tr>\n",
       "    <tr>\n",
       "      <th>BR</th>\n",
       "      <td>88.0</td>\n",
       "      <td>19.204545</td>\n",
       "      <td>4.964608</td>\n",
       "      <td>15.00</td>\n",
       "      <td>15.00</td>\n",
       "      <td>15.00000</td>\n",
       "      <td>25.00</td>\n",
       "      <td>25.000000</td>\n",
       "    </tr>\n",
       "    <tr>\n",
       "      <th>SR</th>\n",
       "      <td>88.0</td>\n",
       "      <td>1.000000</td>\n",
       "      <td>0.000000</td>\n",
       "      <td>1.00</td>\n",
       "      <td>1.00</td>\n",
       "      <td>1.00000</td>\n",
       "      <td>1.00</td>\n",
       "      <td>1.000000</td>\n",
       "    </tr>\n",
       "    <tr>\n",
       "      <th>Dc</th>\n",
       "      <td>88.0</td>\n",
       "      <td>0.463636</td>\n",
       "      <td>0.039717</td>\n",
       "      <td>0.43</td>\n",
       "      <td>0.43</td>\n",
       "      <td>0.43000</td>\n",
       "      <td>0.51</td>\n",
       "      <td>0.510000</td>\n",
       "    </tr>\n",
       "    <tr>\n",
       "      <th>NOB</th>\n",
       "      <td>88.0</td>\n",
       "      <td>4.454545</td>\n",
       "      <td>0.500783</td>\n",
       "      <td>4.00</td>\n",
       "      <td>4.00</td>\n",
       "      <td>4.00000</td>\n",
       "      <td>5.00</td>\n",
       "      <td>5.000000</td>\n",
       "    </tr>\n",
       "  </tbody>\n",
       "</table>\n",
       "</div>"
      ]
     },
     "metadata": {},
     "execution_count": 37
    }
   ],
   "metadata": {}
  },
  {
   "cell_type": "code",
   "execution_count": 38,
   "source": [
    "Y.describe().T"
   ],
   "outputs": [
    {
     "output_type": "execute_result",
     "data": {
      "text/plain": [
       "          count       mean        std       min   25%        50%     75%  \\\n",
       "ROP data   88.0  33.051984  27.326698  1.646927  12.2  26.125011  44.375   \n",
       "\n",
       "            max  \n",
       "ROP data  127.7  "
      ],
      "text/html": [
       "<div>\n",
       "<style scoped>\n",
       "    .dataframe tbody tr th:only-of-type {\n",
       "        vertical-align: middle;\n",
       "    }\n",
       "\n",
       "    .dataframe tbody tr th {\n",
       "        vertical-align: top;\n",
       "    }\n",
       "\n",
       "    .dataframe thead th {\n",
       "        text-align: right;\n",
       "    }\n",
       "</style>\n",
       "<table border=\"1\" class=\"dataframe\">\n",
       "  <thead>\n",
       "    <tr style=\"text-align: right;\">\n",
       "      <th></th>\n",
       "      <th>count</th>\n",
       "      <th>mean</th>\n",
       "      <th>std</th>\n",
       "      <th>min</th>\n",
       "      <th>25%</th>\n",
       "      <th>50%</th>\n",
       "      <th>75%</th>\n",
       "      <th>max</th>\n",
       "    </tr>\n",
       "  </thead>\n",
       "  <tbody>\n",
       "    <tr>\n",
       "      <th>ROP data</th>\n",
       "      <td>88.0</td>\n",
       "      <td>33.051984</td>\n",
       "      <td>27.326698</td>\n",
       "      <td>1.646927</td>\n",
       "      <td>12.2</td>\n",
       "      <td>26.125011</td>\n",
       "      <td>44.375</td>\n",
       "      <td>127.7</td>\n",
       "    </tr>\n",
       "  </tbody>\n",
       "</table>\n",
       "</div>"
      ]
     },
     "metadata": {},
     "execution_count": 38
    }
   ],
   "metadata": {}
  },
  {
   "cell_type": "code",
   "execution_count": 39,
   "source": [
    "X_np = np.array(X)\r\n",
    "Y_np = np.array(Y)"
   ],
   "outputs": [],
   "metadata": {}
  },
  {
   "cell_type": "code",
   "execution_count": 40,
   "source": [
    "X_np.shape"
   ],
   "outputs": [
    {
     "output_type": "execute_result",
     "data": {
      "text/plain": [
       "(88, 9)"
      ]
     },
     "metadata": {},
     "execution_count": 40
    }
   ],
   "metadata": {}
  },
  {
   "cell_type": "code",
   "execution_count": 41,
   "source": [
    "\r\n",
    "Y_np.shape"
   ],
   "outputs": [
    {
     "output_type": "execute_result",
     "data": {
      "text/plain": [
       "(88, 1)"
      ]
     },
     "metadata": {},
     "execution_count": 41
    }
   ],
   "metadata": {}
  },
  {
   "cell_type": "code",
   "execution_count": 42,
   "source": [
    "Y_np_flat = Y_np.flatten()"
   ],
   "outputs": [],
   "metadata": {}
  },
  {
   "cell_type": "code",
   "execution_count": 43,
   "source": [
    "Y_np_flat.shape"
   ],
   "outputs": [
    {
     "output_type": "execute_result",
     "data": {
      "text/plain": [
       "(88,)"
      ]
     },
     "metadata": {},
     "execution_count": 43
    }
   ],
   "metadata": {}
  },
  {
   "cell_type": "code",
   "execution_count": 44,
   "source": [
    "def greater(x,y):\r\n",
    "    if x>y:\r\n",
    "        return x\r\n",
    "    else:\r\n",
    "        return y\r\n",
    "def cube(x):\r\n",
    "    return x*x*x\r\n",
    "\r\n",
    "def log1p_abs(x):\r\n",
    "    return math.log(abs(x) + 1e-8)\r\n",
    "\r\n",
    "def atanh_clip(x):\r\n",
    "    return math.log(abs(x) + 1)\r\n",
    "\r\n",
    "def sqrt_abs(x):\r\n",
    "    return math.sqrt(abs(x))"
   ],
   "outputs": [],
   "metadata": {}
  },
  {
   "cell_type": "code",
   "execution_count": 45,
   "source": [
    "# learn equation\r\n",
    "equation = pysr(X_np,\r\n",
    "                Y_np_flat,\r\n",
    "                loss=\"LPDistLoss{1}()\",\r\n",
    "                niterations=50,\r\n",
    "                binary_operators=[\"plus\", \"sub\", \"mult\", \"pow\", \"div\"],\r\n",
    "                verbosity=0)"
   ],
   "outputs": [],
   "metadata": {}
  },
  {
   "cell_type": "code",
   "execution_count": 52,
   "source": [
    "print(best(equation))"
   ],
   "outputs": [
    {
     "output_type": "stream",
     "name": "stdout",
     "text": [
      "33.7277688655434*exp(cos(x3))\n"
     ]
    }
   ],
   "metadata": {}
  },
  {
   "cell_type": "code",
   "execution_count": 53,
   "source": [
    "X.head()"
   ],
   "outputs": [
    {
     "output_type": "execute_result",
     "data": {
      "text/plain": [
       "      WOB    Db  RPM    UCS  NOC  BR  SR    Dc  NOB\n",
       "0  2543.8  3.75   80  28000   11  25   1  0.51    4\n",
       "1  3048.9  3.75   80  28000   11  25   1  0.51    4\n",
       "2  3538.7  3.75   80  28000   11  25   1  0.51    4\n",
       "3  4066.2  3.75   80  28000   11  25   1  0.51    4\n",
       "4  4574.9  3.75   80  28000   11  25   1  0.51    4"
      ],
      "text/html": [
       "<div>\n",
       "<style scoped>\n",
       "    .dataframe tbody tr th:only-of-type {\n",
       "        vertical-align: middle;\n",
       "    }\n",
       "\n",
       "    .dataframe tbody tr th {\n",
       "        vertical-align: top;\n",
       "    }\n",
       "\n",
       "    .dataframe thead th {\n",
       "        text-align: right;\n",
       "    }\n",
       "</style>\n",
       "<table border=\"1\" class=\"dataframe\">\n",
       "  <thead>\n",
       "    <tr style=\"text-align: right;\">\n",
       "      <th></th>\n",
       "      <th>WOB</th>\n",
       "      <th>Db</th>\n",
       "      <th>RPM</th>\n",
       "      <th>UCS</th>\n",
       "      <th>NOC</th>\n",
       "      <th>BR</th>\n",
       "      <th>SR</th>\n",
       "      <th>Dc</th>\n",
       "      <th>NOB</th>\n",
       "    </tr>\n",
       "  </thead>\n",
       "  <tbody>\n",
       "    <tr>\n",
       "      <th>0</th>\n",
       "      <td>2543.8</td>\n",
       "      <td>3.75</td>\n",
       "      <td>80</td>\n",
       "      <td>28000</td>\n",
       "      <td>11</td>\n",
       "      <td>25</td>\n",
       "      <td>1</td>\n",
       "      <td>0.51</td>\n",
       "      <td>4</td>\n",
       "    </tr>\n",
       "    <tr>\n",
       "      <th>1</th>\n",
       "      <td>3048.9</td>\n",
       "      <td>3.75</td>\n",
       "      <td>80</td>\n",
       "      <td>28000</td>\n",
       "      <td>11</td>\n",
       "      <td>25</td>\n",
       "      <td>1</td>\n",
       "      <td>0.51</td>\n",
       "      <td>4</td>\n",
       "    </tr>\n",
       "    <tr>\n",
       "      <th>2</th>\n",
       "      <td>3538.7</td>\n",
       "      <td>3.75</td>\n",
       "      <td>80</td>\n",
       "      <td>28000</td>\n",
       "      <td>11</td>\n",
       "      <td>25</td>\n",
       "      <td>1</td>\n",
       "      <td>0.51</td>\n",
       "      <td>4</td>\n",
       "    </tr>\n",
       "    <tr>\n",
       "      <th>3</th>\n",
       "      <td>4066.2</td>\n",
       "      <td>3.75</td>\n",
       "      <td>80</td>\n",
       "      <td>28000</td>\n",
       "      <td>11</td>\n",
       "      <td>25</td>\n",
       "      <td>1</td>\n",
       "      <td>0.51</td>\n",
       "      <td>4</td>\n",
       "    </tr>\n",
       "    <tr>\n",
       "      <th>4</th>\n",
       "      <td>4574.9</td>\n",
       "      <td>3.75</td>\n",
       "      <td>80</td>\n",
       "      <td>28000</td>\n",
       "      <td>11</td>\n",
       "      <td>25</td>\n",
       "      <td>1</td>\n",
       "      <td>0.51</td>\n",
       "      <td>4</td>\n",
       "    </tr>\n",
       "  </tbody>\n",
       "</table>\n",
       "</div>"
      ]
     },
     "metadata": {},
     "execution_count": 53
    }
   ],
   "metadata": {}
  },
  {
   "cell_type": "code",
   "execution_count": 48,
   "source": [
    "equation"
   ],
   "outputs": [
    {
     "output_type": "execute_result",
     "data": {
      "text/plain": [
       "   Complexity        MSE     score  \\\n",
       "0           1  21.052410  0.000000   \n",
       "1           3  19.457985  0.039379   \n",
       "2           5  14.095069  0.161216   \n",
       "3           9  13.393480  0.012764   \n",
       "4          11  11.657587  0.069405   \n",
       "5          15  11.527668  0.002802   \n",
       "6          16  10.526838  0.090822   \n",
       "7          17  10.502616  0.002304   \n",
       "8          20  10.355293  0.004709   \n",
       "\n",
       "                                            Equation  \\\n",
       "0                                          35.320942   \n",
       "1                                   (x2 * 0.2174344)   \n",
       "2                           exp(cos(x3) + 3.5183215)   \n",
       "3          (cos(x4) + exp(3.5035143 + sin(cos(x3))))   \n",
       "4  ((x0 / x7) * ((x1 / (-0.02889323 * x3)) * -0.7...   \n",
       "5  (exp(3.4987905 + sin(cos(x3))) + (-12.675725 *...   \n",
       "6  ((exp(3.4203517 + cos(x3)) + x8) + (-15.323885...   \n",
       "7  ((exp(3.420353 + cos(x3)) + x8) + (-17.579283 ...   \n",
       "8  (((exp(3.420353 + cos(x3)) + cos(x4)) + x8) + ...   \n",
       "\n",
       "                                        sympy_format  \\\n",
       "0                                   35.3209420000000   \n",
       "1                                       0.2174344*x2   \n",
       "2                      33.7277688655434*exp(cos(x3))   \n",
       "3       33.2320343242287*exp(sin(cos(x3))) + cos(x4)   \n",
       "4                     27.6692758130538*x0*x1/(x3*x7)   \n",
       "5  33.0754230319216*exp(sin(cos(x3))) - 12.675725...   \n",
       "6  x8 + 30.5801681751444*exp(cos(x3)) - 15.323885...   \n",
       "7  x8 + 30.5802079293889*exp(cos(x3)) - 17.579283...   \n",
       "8  x8 + 30.5802079293889*exp(cos(x3)) - 17.579283...   \n",
       "\n",
       "                                       lambda_format  \n",
       "0  <function _lambdifygenerated at 0x000001B99CB2...  \n",
       "1  <function _lambdifygenerated at 0x000001B99BE9...  \n",
       "2  <function _lambdifygenerated at 0x000001B99BE9...  \n",
       "3  <function _lambdifygenerated at 0x000001B99BE9...  \n",
       "4  <function _lambdifygenerated at 0x000001B99CB2...  \n",
       "5  <function _lambdifygenerated at 0x000001B99BE9...  \n",
       "6  <function _lambdifygenerated at 0x000001B99CB2...  \n",
       "7  <function _lambdifygenerated at 0x000001B99BE9...  \n",
       "8  <function _lambdifygenerated at 0x000001B99C19...  "
      ],
      "text/html": [
       "<div>\n",
       "<style scoped>\n",
       "    .dataframe tbody tr th:only-of-type {\n",
       "        vertical-align: middle;\n",
       "    }\n",
       "\n",
       "    .dataframe tbody tr th {\n",
       "        vertical-align: top;\n",
       "    }\n",
       "\n",
       "    .dataframe thead th {\n",
       "        text-align: right;\n",
       "    }\n",
       "</style>\n",
       "<table border=\"1\" class=\"dataframe\">\n",
       "  <thead>\n",
       "    <tr style=\"text-align: right;\">\n",
       "      <th></th>\n",
       "      <th>Complexity</th>\n",
       "      <th>MSE</th>\n",
       "      <th>score</th>\n",
       "      <th>Equation</th>\n",
       "      <th>sympy_format</th>\n",
       "      <th>lambda_format</th>\n",
       "    </tr>\n",
       "  </thead>\n",
       "  <tbody>\n",
       "    <tr>\n",
       "      <th>0</th>\n",
       "      <td>1</td>\n",
       "      <td>21.052410</td>\n",
       "      <td>0.000000</td>\n",
       "      <td>35.320942</td>\n",
       "      <td>35.3209420000000</td>\n",
       "      <td>&lt;function _lambdifygenerated at 0x000001B99CB2...</td>\n",
       "    </tr>\n",
       "    <tr>\n",
       "      <th>1</th>\n",
       "      <td>3</td>\n",
       "      <td>19.457985</td>\n",
       "      <td>0.039379</td>\n",
       "      <td>(x2 * 0.2174344)</td>\n",
       "      <td>0.2174344*x2</td>\n",
       "      <td>&lt;function _lambdifygenerated at 0x000001B99BE9...</td>\n",
       "    </tr>\n",
       "    <tr>\n",
       "      <th>2</th>\n",
       "      <td>5</td>\n",
       "      <td>14.095069</td>\n",
       "      <td>0.161216</td>\n",
       "      <td>exp(cos(x3) + 3.5183215)</td>\n",
       "      <td>33.7277688655434*exp(cos(x3))</td>\n",
       "      <td>&lt;function _lambdifygenerated at 0x000001B99BE9...</td>\n",
       "    </tr>\n",
       "    <tr>\n",
       "      <th>3</th>\n",
       "      <td>9</td>\n",
       "      <td>13.393480</td>\n",
       "      <td>0.012764</td>\n",
       "      <td>(cos(x4) + exp(3.5035143 + sin(cos(x3))))</td>\n",
       "      <td>33.2320343242287*exp(sin(cos(x3))) + cos(x4)</td>\n",
       "      <td>&lt;function _lambdifygenerated at 0x000001B99BE9...</td>\n",
       "    </tr>\n",
       "    <tr>\n",
       "      <th>4</th>\n",
       "      <td>11</td>\n",
       "      <td>11.657587</td>\n",
       "      <td>0.069405</td>\n",
       "      <td>((x0 / x7) * ((x1 / (-0.02889323 * x3)) * -0.7...</td>\n",
       "      <td>27.6692758130538*x0*x1/(x3*x7)</td>\n",
       "      <td>&lt;function _lambdifygenerated at 0x000001B99CB2...</td>\n",
       "    </tr>\n",
       "    <tr>\n",
       "      <th>5</th>\n",
       "      <td>15</td>\n",
       "      <td>11.527668</td>\n",
       "      <td>0.002802</td>\n",
       "      <td>(exp(3.4987905 + sin(cos(x3))) + (-12.675725 *...</td>\n",
       "      <td>33.0754230319216*exp(sin(cos(x3))) - 12.675725...</td>\n",
       "      <td>&lt;function _lambdifygenerated at 0x000001B99BE9...</td>\n",
       "    </tr>\n",
       "    <tr>\n",
       "      <th>6</th>\n",
       "      <td>16</td>\n",
       "      <td>10.526838</td>\n",
       "      <td>0.090822</td>\n",
       "      <td>((exp(3.4203517 + cos(x3)) + x8) + (-15.323885...</td>\n",
       "      <td>x8 + 30.5801681751444*exp(cos(x3)) - 15.323885...</td>\n",
       "      <td>&lt;function _lambdifygenerated at 0x000001B99CB2...</td>\n",
       "    </tr>\n",
       "    <tr>\n",
       "      <th>7</th>\n",
       "      <td>17</td>\n",
       "      <td>10.502616</td>\n",
       "      <td>0.002304</td>\n",
       "      <td>((exp(3.420353 + cos(x3)) + x8) + (-17.579283 ...</td>\n",
       "      <td>x8 + 30.5802079293889*exp(cos(x3)) - 17.579283...</td>\n",
       "      <td>&lt;function _lambdifygenerated at 0x000001B99BE9...</td>\n",
       "    </tr>\n",
       "    <tr>\n",
       "      <th>8</th>\n",
       "      <td>20</td>\n",
       "      <td>10.355293</td>\n",
       "      <td>0.004709</td>\n",
       "      <td>(((exp(3.420353 + cos(x3)) + cos(x4)) + x8) + ...</td>\n",
       "      <td>x8 + 30.5802079293889*exp(cos(x3)) - 17.579283...</td>\n",
       "      <td>&lt;function _lambdifygenerated at 0x000001B99C19...</td>\n",
       "    </tr>\n",
       "  </tbody>\n",
       "</table>\n",
       "</div>"
      ]
     },
     "metadata": {},
     "execution_count": 48
    }
   ],
   "metadata": {}
  },
  {
   "cell_type": "code",
   "execution_count": 58,
   "source": [
    "def best_equation(row):\r\n",
    "    x0, x1, x2, x3, x4, x5, x6, x7, x8 = row\r\n",
    "    # Y = pow((((pow(x0, 0.58327144) - x5) * 0.92625475) + -29.036554) + ((math.cos(x3) * x1) * (x4 + 4.0001407)), 1.002844)\r\n",
    "\r\n",
    "    # Y = 0.1752066*x2 + 3.2127466*x4*math.cos(x3) + 23.291798 #best equation\r\n",
    "    # Y =pow((((pow(x0, 0.58327144) - x5) * 0.92625475) + -29.036554) + ((math.cos(x3) * x1) * (x4 + 4.0001407)), 1.002844)\r\n",
    "    # Y = 4.05730505196961*x2*abs(2.323865 - x3/x0)**(-1*math.sin(2.5767245*x5))/x8\r\n",
    "\r\n",
    "\r\n",
    "    \r\n",
    "    # Y = -(x0*x2 + x4*x7*(x0 - x3))/(x7*(x0 - x3))\r\n",
    "    Y = ((((x2 + 28.162392) / (((x3 * x7) / x0) - 0.2731424)) - (math.exp(math.sin(x3)) - math.cos(x3))) - x4)\r\n",
    "    # Y = (((math.exp(3.420353 + math.cos(x3)) + math.cos(x4)) + x8) + (-17.579283 * math.sin(math.cos((1.2552736 * x0) + x5))))\r\n",
    "\r\n",
    "\r\n",
    "    return abs(Y)\r\n",
    "\r\n",
    "# row = np.array([2.39e-01, 2.00e-02, 0, 0])\r\n",
    "# best_equation(row)\r\n",
    "# print(np.apply_along_axis(best_equation, 1, X_nor_np))\r\n",
    "estimated = np.apply_along_axis(best_equation, 1, X_np)"
   ],
   "outputs": [],
   "metadata": {}
  },
  {
   "cell_type": "code",
   "execution_count": 59,
   "source": [
    "plt.figure(figsize=(7,7))\r\n",
    "plt.plot(estimated, label=\"Best Model\")\r\n",
    "plt.plot(Y_np, label=\"Data\")\r\n",
    "plt.xlim(0,120),plt.xlabel(\"estimated\")\r\n",
    "plt.ylim(0,120),plt.ylabel(\"data\")\r\n",
    "plt.legend()"
   ],
   "outputs": [
    {
     "output_type": "execute_result",
     "data": {
      "text/plain": [
       "<matplotlib.legend.Legend at 0x1b99cbac748>"
      ]
     },
     "metadata": {},
     "execution_count": 59
    },
    {
     "output_type": "display_data",
     "data": {
      "text/plain": [
       "<Figure size 504x504 with 1 Axes>"
      ],
      "image/png": "[encoded data removed]"
     },
     "metadata": {
      "needs_background": "light"
     }
    }
   ],
   "metadata": {}
  },
  {
   "cell_type": "code",
   "execution_count": 60,
   "source": [
    "plt.figure(figsize=(7,7))\r\n",
    "plt.scatter(estimated, Y_np)\r\n",
    "plt.xlim(0,120),plt.xlabel(\"estimated\")\r\n",
    "plt.ylim(0,120),plt.ylabel(\"data\")"
   ],
   "outputs": [
    {
     "output_type": "execute_result",
     "data": {
      "text/plain": [
       "((0, 120), Text(0, 0.5, 'data'))"
      ]
     },
     "metadata": {},
     "execution_count": 60
    },
    {
     "output_type": "display_data",
     "data": {
      "text/plain": [
       "<Figure size 504x504 with 1 Axes>"
      ],
      "image/png": "[encoded data removed]"
     },
     "metadata": {
      "needs_background": "light"
     }
    }
   ],
   "metadata": {}
  },
  {
   "cell_type": "code",
   "execution_count": null,
   "source": [],
   "outputs": [],
   "metadata": {}
  },
  {
   "cell_type": "code",
   "execution_count": null,
   "source": [],
   "outputs": [],
   "metadata": {}
  },
  {
   "cell_type": "code",
   "execution_count": null,
   "source": [],
   "outputs": [],
   "metadata": {}
  },
  {
   "cell_type": "code",
   "execution_count": null,
   "source": [],
   "outputs": [],
   "metadata": {}
  },
  {
   "cell_type": "code",
   "execution_count": null,
   "source": [],
   "outputs": [],
   "metadata": {}
  },
  {
   "cell_type": "code",
   "execution_count": null,
   "source": [],
   "outputs": [],
   "metadata": {}
  },
  {
   "cell_type": "code",
   "execution_count": null,
   "source": [],
   "outputs": [],
   "metadata": {}
  }
 ],
 "metadata": {
  "interpreter": {
   "hash": "8e8bcbdb95216a37a2dcd71944774c4115a1008460043c77ce41306a03579f88"
  },
  "kernelspec": {
   "display_name": "Python 3.6.4 64-bit",
   "name": "python3"
  },
  "language_info": {
   "codemirror_mode": {
    "name": "ipython",
    "version": 3
   },
   "file_extension": ".py",
   "mimetype": "text/x-python",
   "name": "python",
   "nbconvert_exporter": "python",
   "pygments_lexer": "ipython3",
   "version": "3.6.4"
  },
  "orig_nbformat": 4
 },
 "nbformat": 4,
 "nbformat_minor": 2
}