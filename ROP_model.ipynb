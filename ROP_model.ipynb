{
 "cells": [
  {
   "cell_type": "markdown",
   "metadata": {},
   "source": [
    "# Developing PDC ROP model using symbolic regression and pysr library"
   ]
  },
  {
   "cell_type": "markdown",
   "metadata": {},
   "source": [
    "### Import neccassary libraries"
   ]
  },
  {
   "cell_type": "code",
   "execution_count": 1,
   "metadata": {},
   "outputs": [],
   "source": [
    "import pandas as pd\n",
    "import numpy as np\n",
    "from pysr import pysr, best\n",
    "from sklearn import preprocessing\n",
    "\n",
    "import matplotlib.pylab as plt\n",
    "\n",
    "import seaborn as sns\n",
    "from sklearn.metrics import confusion_matrix\n",
    "from sklearn.metrics import accuracy_score\n",
    "\n",
    "import math"
   ]
  },
  {
   "cell_type": "markdown",
   "metadata": {},
   "source": [
    "* In this study, we use the Sandia National Lab and National Oil Varco full PDC bit data.\n",
    "* The data was published in ARMA conference 55TH US ROCK MECHANICS / GEOMECHANICS SYMPOSIUM 18-25 June 2021 Online.\n",
    "* Paper titel is \"ROP Model for PDC Bits in Geothermal Drilling\"."
   ]
  },
  {
   "cell_type": "markdown",
   "metadata": {},
   "source": [
    "### Read the PDC ROP data"
   ]
  },
  {
   "cell_type": "code",
   "execution_count": 33,
   "metadata": {},
   "outputs": [
    {
     "data": {
      "text/html": [
       "<div>\n",
       "<style scoped>\n",
       "    .dataframe tbody tr th:only-of-type {\n",
       "        vertical-align: middle;\n",
       "    }\n",
       "\n",
       "    .dataframe tbody tr th {\n",
       "        vertical-align: top;\n",
       "    }\n",
       "\n",
       "    .dataframe thead th {\n",
       "        text-align: right;\n",
       "    }\n",
       "</style>\n",
       "<table border=\"1\" class=\"dataframe\">\n",
       "  <thead>\n",
       "    <tr style=\"text-align: right;\">\n",
       "      <th></th>\n",
       "      <th>year</th>\n",
       "      <th>name</th>\n",
       "      <th>WOB</th>\n",
       "      <th>ROP data</th>\n",
       "      <th>Db</th>\n",
       "      <th>RPM</th>\n",
       "      <th>UCS</th>\n",
       "      <th>NOC</th>\n",
       "      <th>BR</th>\n",
       "      <th>SR</th>\n",
       "      <th>Dc</th>\n",
       "      <th>NOB</th>\n",
       "    </tr>\n",
       "  </thead>\n",
       "  <tbody>\n",
       "    <tr>\n",
       "      <th>0</th>\n",
       "      <td>2019</td>\n",
       "      <td>SWG</td>\n",
       "      <td>2543.8</td>\n",
       "      <td>6.2</td>\n",
       "      <td>3.75</td>\n",
       "      <td>80</td>\n",
       "      <td>28000</td>\n",
       "      <td>11</td>\n",
       "      <td>25</td>\n",
       "      <td>1</td>\n",
       "      <td>0.51</td>\n",
       "      <td>4</td>\n",
       "    </tr>\n",
       "    <tr>\n",
       "      <th>1</th>\n",
       "      <td>2019</td>\n",
       "      <td>SWG</td>\n",
       "      <td>3048.9</td>\n",
       "      <td>11.9</td>\n",
       "      <td>3.75</td>\n",
       "      <td>80</td>\n",
       "      <td>28000</td>\n",
       "      <td>11</td>\n",
       "      <td>25</td>\n",
       "      <td>1</td>\n",
       "      <td>0.51</td>\n",
       "      <td>4</td>\n",
       "    </tr>\n",
       "    <tr>\n",
       "      <th>2</th>\n",
       "      <td>2019</td>\n",
       "      <td>SWG</td>\n",
       "      <td>3538.7</td>\n",
       "      <td>19.5</td>\n",
       "      <td>3.75</td>\n",
       "      <td>80</td>\n",
       "      <td>28000</td>\n",
       "      <td>11</td>\n",
       "      <td>25</td>\n",
       "      <td>1</td>\n",
       "      <td>0.51</td>\n",
       "      <td>4</td>\n",
       "    </tr>\n",
       "    <tr>\n",
       "      <th>3</th>\n",
       "      <td>2019</td>\n",
       "      <td>SWG</td>\n",
       "      <td>4066.2</td>\n",
       "      <td>28.6</td>\n",
       "      <td>3.75</td>\n",
       "      <td>80</td>\n",
       "      <td>28000</td>\n",
       "      <td>11</td>\n",
       "      <td>25</td>\n",
       "      <td>1</td>\n",
       "      <td>0.51</td>\n",
       "      <td>4</td>\n",
       "    </tr>\n",
       "    <tr>\n",
       "      <th>4</th>\n",
       "      <td>2019</td>\n",
       "      <td>SWG</td>\n",
       "      <td>4574.9</td>\n",
       "      <td>36.6</td>\n",
       "      <td>3.75</td>\n",
       "      <td>80</td>\n",
       "      <td>28000</td>\n",
       "      <td>11</td>\n",
       "      <td>25</td>\n",
       "      <td>1</td>\n",
       "      <td>0.51</td>\n",
       "      <td>4</td>\n",
       "    </tr>\n",
       "  </tbody>\n",
       "</table>\n",
       "</div>"
      ],
      "text/plain": [
       "   year name      WOB  ROP data    Db  RPM    UCS  NOC  BR  SR    Dc  NOB\n",
       "0  2019   SWG  2543.8       6.2  3.75   80  28000   11  25   1  0.51    4\n",
       "1  2019   SWG  3048.9      11.9  3.75   80  28000   11  25   1  0.51    4\n",
       "2  2019   SWG  3538.7      19.5  3.75   80  28000   11  25   1  0.51    4\n",
       "3  2019   SWG  4066.2      28.6  3.75   80  28000   11  25   1  0.51    4\n",
       "4  2019   SWG  4574.9      36.6  3.75   80  28000   11  25   1  0.51    4"
      ]
     },
     "execution_count": 33,
     "metadata": {},
     "output_type": "execute_result"
    }
   ],
   "source": [
    "data = pd.read_csv(\"ROP data.csv\")\n",
    "data.head()"
   ]
  },
  {
   "cell_type": "markdown",
   "metadata": {},
   "source": [
    "Check out the data frame column names."
   ]
  },
  {
   "cell_type": "code",
   "execution_count": 4,
   "metadata": {},
   "outputs": [
    {
     "data": {
      "text/plain": [
       "Index(['year', 'name ', 'WOB', 'ROP data', 'Db', 'RPM', 'UCS', 'NOC', 'BR',\n",
       "       'SR', 'Dc', 'NOB'],\n",
       "      dtype='object')"
      ]
     },
     "execution_count": 4,
     "metadata": {},
     "output_type": "execute_result"
    }
   ],
   "source": [
    "data.columns"
   ]
  },
  {
   "cell_type": "markdown",
   "metadata": {},
   "source": [
    "Separate the independent (X) and dependant (Y) parameters"
   ]
  },
  {
   "cell_type": "code",
   "execution_count": 5,
   "metadata": {},
   "outputs": [],
   "source": [
    "keep_clmns = ['WOB', 'Db', 'RPM', 'UCS', 'NOC', 'BR', 'SR', 'Dc', 'NOB']\n",
    "X = data[keep_clmns]\n",
    "\n",
    "keep_clmns = ['ROP data',]\n",
    "Y = data[keep_clmns]"
   ]
  },
  {
   "cell_type": "markdown",
   "metadata": {},
   "source": [
    "Check out the X and Y top 5 values"
   ]
  },
  {
   "cell_type": "code",
   "execution_count": 6,
   "metadata": {},
   "outputs": [
    {
     "data": {
      "text/html": [
       "<div>\n",
       "<style scoped>\n",
       "    .dataframe tbody tr th:only-of-type {\n",
       "        vertical-align: middle;\n",
       "    }\n",
       "\n",
       "    .dataframe tbody tr th {\n",
       "        vertical-align: top;\n",
       "    }\n",
       "\n",
       "    .dataframe thead th {\n",
       "        text-align: right;\n",
       "    }\n",
       "</style>\n",
       "<table border=\"1\" class=\"dataframe\">\n",
       "  <thead>\n",
       "    <tr style=\"text-align: right;\">\n",
       "      <th></th>\n",
       "      <th>WOB</th>\n",
       "      <th>Db</th>\n",
       "      <th>RPM</th>\n",
       "      <th>UCS</th>\n",
       "      <th>NOC</th>\n",
       "      <th>BR</th>\n",
       "      <th>SR</th>\n",
       "      <th>Dc</th>\n",
       "      <th>NOB</th>\n",
       "    </tr>\n",
       "  </thead>\n",
       "  <tbody>\n",
       "    <tr>\n",
       "      <th>0</th>\n",
       "      <td>2543.8</td>\n",
       "      <td>3.75</td>\n",
       "      <td>80</td>\n",
       "      <td>28000</td>\n",
       "      <td>11</td>\n",
       "      <td>25</td>\n",
       "      <td>1</td>\n",
       "      <td>0.51</td>\n",
       "      <td>4</td>\n",
       "    </tr>\n",
       "    <tr>\n",
       "      <th>1</th>\n",
       "      <td>3048.9</td>\n",
       "      <td>3.75</td>\n",
       "      <td>80</td>\n",
       "      <td>28000</td>\n",
       "      <td>11</td>\n",
       "      <td>25</td>\n",
       "      <td>1</td>\n",
       "      <td>0.51</td>\n",
       "      <td>4</td>\n",
       "    </tr>\n",
       "    <tr>\n",
       "      <th>2</th>\n",
       "      <td>3538.7</td>\n",
       "      <td>3.75</td>\n",
       "      <td>80</td>\n",
       "      <td>28000</td>\n",
       "      <td>11</td>\n",
       "      <td>25</td>\n",
       "      <td>1</td>\n",
       "      <td>0.51</td>\n",
       "      <td>4</td>\n",
       "    </tr>\n",
       "    <tr>\n",
       "      <th>3</th>\n",
       "      <td>4066.2</td>\n",
       "      <td>3.75</td>\n",
       "      <td>80</td>\n",
       "      <td>28000</td>\n",
       "      <td>11</td>\n",
       "      <td>25</td>\n",
       "      <td>1</td>\n",
       "      <td>0.51</td>\n",
       "      <td>4</td>\n",
       "    </tr>\n",
       "    <tr>\n",
       "      <th>4</th>\n",
       "      <td>4574.9</td>\n",
       "      <td>3.75</td>\n",
       "      <td>80</td>\n",
       "      <td>28000</td>\n",
       "      <td>11</td>\n",
       "      <td>25</td>\n",
       "      <td>1</td>\n",
       "      <td>0.51</td>\n",
       "      <td>4</td>\n",
       "    </tr>\n",
       "  </tbody>\n",
       "</table>\n",
       "</div>"
      ],
      "text/plain": [
       "      WOB    Db  RPM    UCS  NOC  BR  SR    Dc  NOB\n",
       "0  2543.8  3.75   80  28000   11  25   1  0.51    4\n",
       "1  3048.9  3.75   80  28000   11  25   1  0.51    4\n",
       "2  3538.7  3.75   80  28000   11  25   1  0.51    4\n",
       "3  4066.2  3.75   80  28000   11  25   1  0.51    4\n",
       "4  4574.9  3.75   80  28000   11  25   1  0.51    4"
      ]
     },
     "execution_count": 6,
     "metadata": {},
     "output_type": "execute_result"
    }
   ],
   "source": [
    "X.head()"
   ]
  },
  {
   "cell_type": "code",
   "execution_count": 7,
   "metadata": {},
   "outputs": [
    {
     "data": {
      "text/html": [
       "<div>\n",
       "<style scoped>\n",
       "    .dataframe tbody tr th:only-of-type {\n",
       "        vertical-align: middle;\n",
       "    }\n",
       "\n",
       "    .dataframe tbody tr th {\n",
       "        vertical-align: top;\n",
       "    }\n",
       "\n",
       "    .dataframe thead th {\n",
       "        text-align: right;\n",
       "    }\n",
       "</style>\n",
       "<table border=\"1\" class=\"dataframe\">\n",
       "  <thead>\n",
       "    <tr style=\"text-align: right;\">\n",
       "      <th></th>\n",
       "      <th>ROP data</th>\n",
       "    </tr>\n",
       "  </thead>\n",
       "  <tbody>\n",
       "    <tr>\n",
       "      <th>0</th>\n",
       "      <td>6.2</td>\n",
       "    </tr>\n",
       "    <tr>\n",
       "      <th>1</th>\n",
       "      <td>11.9</td>\n",
       "    </tr>\n",
       "    <tr>\n",
       "      <th>2</th>\n",
       "      <td>19.5</td>\n",
       "    </tr>\n",
       "    <tr>\n",
       "      <th>3</th>\n",
       "      <td>28.6</td>\n",
       "    </tr>\n",
       "    <tr>\n",
       "      <th>4</th>\n",
       "      <td>36.6</td>\n",
       "    </tr>\n",
       "  </tbody>\n",
       "</table>\n",
       "</div>"
      ],
      "text/plain": [
       "   ROP data\n",
       "0       6.2\n",
       "1      11.9\n",
       "2      19.5\n",
       "3      28.6\n",
       "4      36.6"
      ]
     },
     "execution_count": 7,
     "metadata": {},
     "output_type": "execute_result"
    }
   ],
   "source": [
    "Y.head()"
   ]
  },
  {
   "cell_type": "markdown",
   "metadata": {},
   "source": [
    "Check out the mean, std, min and max values."
   ]
  },
  {
   "cell_type": "code",
   "execution_count": 8,
   "metadata": {},
   "outputs": [
    {
     "data": {
      "text/html": [
       "<div>\n",
       "<style scoped>\n",
       "    .dataframe tbody tr th:only-of-type {\n",
       "        vertical-align: middle;\n",
       "    }\n",
       "\n",
       "    .dataframe tbody tr th {\n",
       "        vertical-align: top;\n",
       "    }\n",
       "\n",
       "    .dataframe thead th {\n",
       "        text-align: right;\n",
       "    }\n",
       "</style>\n",
       "<table border=\"1\" class=\"dataframe\">\n",
       "  <thead>\n",
       "    <tr style=\"text-align: right;\">\n",
       "      <th></th>\n",
       "      <th>count</th>\n",
       "      <th>mean</th>\n",
       "      <th>std</th>\n",
       "      <th>min</th>\n",
       "      <th>25%</th>\n",
       "      <th>50%</th>\n",
       "      <th>75%</th>\n",
       "      <th>max</th>\n",
       "    </tr>\n",
       "  </thead>\n",
       "  <tbody>\n",
       "    <tr>\n",
       "      <th>WOB</th>\n",
       "      <td>88.0</td>\n",
       "      <td>2967.525501</td>\n",
       "      <td>986.156551</td>\n",
       "      <td>1090.00</td>\n",
       "      <td>2287.50</td>\n",
       "      <td>3033.55165</td>\n",
       "      <td>3692.50</td>\n",
       "      <td>5088.248694</td>\n",
       "    </tr>\n",
       "    <tr>\n",
       "      <th>Db</th>\n",
       "      <td>88.0</td>\n",
       "      <td>3.750000</td>\n",
       "      <td>0.000000</td>\n",
       "      <td>3.75</td>\n",
       "      <td>3.75</td>\n",
       "      <td>3.75000</td>\n",
       "      <td>3.75</td>\n",
       "      <td>3.750000</td>\n",
       "    </tr>\n",
       "    <tr>\n",
       "      <th>RPM</th>\n",
       "      <td>88.0</td>\n",
       "      <td>123.636364</td>\n",
       "      <td>28.169512</td>\n",
       "      <td>80.00</td>\n",
       "      <td>100.00</td>\n",
       "      <td>120.00000</td>\n",
       "      <td>150.00</td>\n",
       "      <td>160.000000</td>\n",
       "    </tr>\n",
       "    <tr>\n",
       "      <th>UCS</th>\n",
       "      <td>88.0</td>\n",
       "      <td>24437.500000</td>\n",
       "      <td>7904.099220</td>\n",
       "      <td>7100.00</td>\n",
       "      <td>28000.00</td>\n",
       "      <td>28000.00000</td>\n",
       "      <td>28000.00</td>\n",
       "      <td>28000.000000</td>\n",
       "    </tr>\n",
       "    <tr>\n",
       "      <th>NOC</th>\n",
       "      <td>88.0</td>\n",
       "      <td>12.454545</td>\n",
       "      <td>2.094926</td>\n",
       "      <td>11.00</td>\n",
       "      <td>11.00</td>\n",
       "      <td>11.00000</td>\n",
       "      <td>13.00</td>\n",
       "      <td>16.000000</td>\n",
       "    </tr>\n",
       "    <tr>\n",
       "      <th>BR</th>\n",
       "      <td>88.0</td>\n",
       "      <td>19.204545</td>\n",
       "      <td>4.964608</td>\n",
       "      <td>15.00</td>\n",
       "      <td>15.00</td>\n",
       "      <td>15.00000</td>\n",
       "      <td>25.00</td>\n",
       "      <td>25.000000</td>\n",
       "    </tr>\n",
       "    <tr>\n",
       "      <th>SR</th>\n",
       "      <td>88.0</td>\n",
       "      <td>1.000000</td>\n",
       "      <td>0.000000</td>\n",
       "      <td>1.00</td>\n",
       "      <td>1.00</td>\n",
       "      <td>1.00000</td>\n",
       "      <td>1.00</td>\n",
       "      <td>1.000000</td>\n",
       "    </tr>\n",
       "    <tr>\n",
       "      <th>Dc</th>\n",
       "      <td>88.0</td>\n",
       "      <td>0.463636</td>\n",
       "      <td>0.039717</td>\n",
       "      <td>0.43</td>\n",
       "      <td>0.43</td>\n",
       "      <td>0.43000</td>\n",
       "      <td>0.51</td>\n",
       "      <td>0.510000</td>\n",
       "    </tr>\n",
       "    <tr>\n",
       "      <th>NOB</th>\n",
       "      <td>88.0</td>\n",
       "      <td>4.454545</td>\n",
       "      <td>0.500783</td>\n",
       "      <td>4.00</td>\n",
       "      <td>4.00</td>\n",
       "      <td>4.00000</td>\n",
       "      <td>5.00</td>\n",
       "      <td>5.000000</td>\n",
       "    </tr>\n",
       "  </tbody>\n",
       "</table>\n",
       "</div>"
      ],
      "text/plain": [
       "     count          mean          std      min       25%          50%  \\\n",
       "WOB   88.0   2967.525501   986.156551  1090.00   2287.50   3033.55165   \n",
       "Db    88.0      3.750000     0.000000     3.75      3.75      3.75000   \n",
       "RPM   88.0    123.636364    28.169512    80.00    100.00    120.00000   \n",
       "UCS   88.0  24437.500000  7904.099220  7100.00  28000.00  28000.00000   \n",
       "NOC   88.0     12.454545     2.094926    11.00     11.00     11.00000   \n",
       "BR    88.0     19.204545     4.964608    15.00     15.00     15.00000   \n",
       "SR    88.0      1.000000     0.000000     1.00      1.00      1.00000   \n",
       "Dc    88.0      0.463636     0.039717     0.43      0.43      0.43000   \n",
       "NOB   88.0      4.454545     0.500783     4.00      4.00      4.00000   \n",
       "\n",
       "          75%           max  \n",
       "WOB   3692.50   5088.248694  \n",
       "Db       3.75      3.750000  \n",
       "RPM    150.00    160.000000  \n",
       "UCS  28000.00  28000.000000  \n",
       "NOC     13.00     16.000000  \n",
       "BR      25.00     25.000000  \n",
       "SR       1.00      1.000000  \n",
       "Dc       0.51      0.510000  \n",
       "NOB      5.00      5.000000  "
      ]
     },
     "execution_count": 8,
     "metadata": {},
     "output_type": "execute_result"
    }
   ],
   "source": [
    "X.describe().T"
   ]
  },
  {
   "cell_type": "code",
   "execution_count": 9,
   "metadata": {},
   "outputs": [
    {
     "data": {
      "text/html": [
       "<div>\n",
       "<style scoped>\n",
       "    .dataframe tbody tr th:only-of-type {\n",
       "        vertical-align: middle;\n",
       "    }\n",
       "\n",
       "    .dataframe tbody tr th {\n",
       "        vertical-align: top;\n",
       "    }\n",
       "\n",
       "    .dataframe thead th {\n",
       "        text-align: right;\n",
       "    }\n",
       "</style>\n",
       "<table border=\"1\" class=\"dataframe\">\n",
       "  <thead>\n",
       "    <tr style=\"text-align: right;\">\n",
       "      <th></th>\n",
       "      <th>count</th>\n",
       "      <th>mean</th>\n",
       "      <th>std</th>\n",
       "      <th>min</th>\n",
       "      <th>25%</th>\n",
       "      <th>50%</th>\n",
       "      <th>75%</th>\n",
       "      <th>max</th>\n",
       "    </tr>\n",
       "  </thead>\n",
       "  <tbody>\n",
       "    <tr>\n",
       "      <th>ROP data</th>\n",
       "      <td>88.0</td>\n",
       "      <td>33.051984</td>\n",
       "      <td>27.326698</td>\n",
       "      <td>1.646927</td>\n",
       "      <td>12.2</td>\n",
       "      <td>26.125011</td>\n",
       "      <td>44.375</td>\n",
       "      <td>127.7</td>\n",
       "    </tr>\n",
       "  </tbody>\n",
       "</table>\n",
       "</div>"
      ],
      "text/plain": [
       "          count       mean        std       min   25%        50%     75%  \\\n",
       "ROP data   88.0  33.051984  27.326698  1.646927  12.2  26.125011  44.375   \n",
       "\n",
       "            max  \n",
       "ROP data  127.7  "
      ]
     },
     "execution_count": 9,
     "metadata": {},
     "output_type": "execute_result"
    }
   ],
   "source": [
    "Y.describe().T"
   ]
  },
  {
   "cell_type": "markdown",
   "metadata": {},
   "source": [
    "Turn pandas data frame into the numpy array. Numpy arrays then will be fed into the pysr algorithm."
   ]
  },
  {
   "cell_type": "code",
   "execution_count": 10,
   "metadata": {},
   "outputs": [],
   "source": [
    "X_np = np.array(X)\n",
    "Y_np = np.array(Y)"
   ]
  },
  {
   "cell_type": "code",
   "execution_count": 35,
   "metadata": {},
   "outputs": [
    {
     "name": "stdout",
     "output_type": "stream",
     "text": [
      "The X_np shape is  (88, 9)\n",
      "The Y_np shape is  (88, 1)\n"
     ]
    }
   ],
   "source": [
    "print(\"The X_np shape is \", X_np.shape)\n",
    "print(\"The Y_np shape is \", Y_np.shape)"
   ]
  },
  {
   "cell_type": "markdown",
   "metadata": {},
   "source": [
    "Flatten the Y numpy."
   ]
  },
  {
   "cell_type": "code",
   "execution_count": 36,
   "metadata": {},
   "outputs": [
    {
     "name": "stdout",
     "output_type": "stream",
     "text": [
      "The Y_np_flat shape is  (88,)\n"
     ]
    }
   ],
   "source": [
    "Y_np_flat = Y_np.flatten()\n",
    "print(\"The Y_np_flat shape is \", Y_np_flat.shape)"
   ]
  },
  {
   "cell_type": "markdown",
   "metadata": {},
   "source": [
    "### Run the pysr library"
   ]
  },
  {
   "cell_type": "code",
   "execution_count": 15,
   "metadata": {},
   "outputs": [
    {
     "name": "stdout",
     "output_type": "stream",
     "text": [
      "Wall time: 9min 25s                                     ]  0.0 %\n"
     ]
    }
   ],
   "source": [
    "%%time\n",
    "# learn equation\n",
    "equations = pysr(X_np,\n",
    "                Y_np_flat,\n",
    "                loss=\"LPDistLoss{2}()\",\n",
    "                procs=10,\n",
    "                populations=10,\n",
    "                niterations=20,\n",
    "                binary_operators=[\"plus\", \"sub\", \"mult\", \"pow\", \"div\"],\n",
    "                unary_operators=[],\n",
    "                verbosity=1, \n",
    "                variable_names=['WOB', 'Db', 'RPM', 'UCS', 'NOC', 'BR', 'SR', 'Dc', 'NOB'])"
   ]
  },
  {
   "cell_type": "code",
   "execution_count": 38,
   "metadata": {},
   "outputs": [],
   "source": [
    "# print(best(equation))\n",
    "# best_equation = equation.iloc[equation.MSE.argmin()]"
   ]
  },
  {
   "cell_type": "markdown",
   "metadata": {},
   "source": [
    "Check out the hall of fame equations"
   ]
  },
  {
   "cell_type": "code",
   "execution_count": 40,
   "metadata": {},
   "outputs": [
    {
     "data": {
      "text/html": [
       "<div>\n",
       "<style scoped>\n",
       "    .dataframe tbody tr th:only-of-type {\n",
       "        vertical-align: middle;\n",
       "    }\n",
       "\n",
       "    .dataframe tbody tr th {\n",
       "        vertical-align: top;\n",
       "    }\n",
       "\n",
       "    .dataframe thead th {\n",
       "        text-align: right;\n",
       "    }\n",
       "</style>\n",
       "<table border=\"1\" class=\"dataframe\">\n",
       "  <thead>\n",
       "    <tr style=\"text-align: right;\">\n",
       "      <th></th>\n",
       "      <th>Complexity</th>\n",
       "      <th>MSE</th>\n",
       "      <th>score</th>\n",
       "      <th>Equation</th>\n",
       "      <th>sympy_format</th>\n",
       "      <th>lambda_format</th>\n",
       "    </tr>\n",
       "  </thead>\n",
       "  <tbody>\n",
       "    <tr>\n",
       "      <th>0</th>\n",
       "      <td>1</td>\n",
       "      <td>1064.938000</td>\n",
       "      <td>0.000000</td>\n",
       "      <td>BR</td>\n",
       "      <td>BR</td>\n",
       "      <td>&lt;function _lambdifygenerated at 0x000001E14E78...</td>\n",
       "    </tr>\n",
       "    <tr>\n",
       "      <th>1</th>\n",
       "      <td>3</td>\n",
       "      <td>669.070200</td>\n",
       "      <td>0.232391</td>\n",
       "      <td>(RPM / NOB)</td>\n",
       "      <td>RPM/NOB</td>\n",
       "      <td>&lt;function _lambdifygenerated at 0x000001E14E78...</td>\n",
       "    </tr>\n",
       "    <tr>\n",
       "      <th>2</th>\n",
       "      <td>5</td>\n",
       "      <td>597.903900</td>\n",
       "      <td>0.056229</td>\n",
       "      <td>(RPM / pow(BR, Dc))</td>\n",
       "      <td>RPM*Abs(BR)**(-Dc)</td>\n",
       "      <td>&lt;function _lambdifygenerated at 0x000001E14E78...</td>\n",
       "    </tr>\n",
       "    <tr>\n",
       "      <th>3</th>\n",
       "      <td>7</td>\n",
       "      <td>161.605270</td>\n",
       "      <td>0.654137</td>\n",
       "      <td>(((RPM / Dc) * WOB) / UCS)</td>\n",
       "      <td>RPM*WOB/(Dc*UCS)</td>\n",
       "      <td>&lt;function _lambdifygenerated at 0x000001E14E8C...</td>\n",
       "    </tr>\n",
       "    <tr>\n",
       "      <th>4</th>\n",
       "      <td>9</td>\n",
       "      <td>148.593520</td>\n",
       "      <td>0.041971</td>\n",
       "      <td>((((RPM / Dc) * WOB) / UCS) - NOB)</td>\n",
       "      <td>-NOB + RPM*WOB/(Dc*UCS)</td>\n",
       "      <td>&lt;function _lambdifygenerated at 0x000001E14E8C...</td>\n",
       "    </tr>\n",
       "    <tr>\n",
       "      <th>5</th>\n",
       "      <td>11</td>\n",
       "      <td>95.769510</td>\n",
       "      <td>0.219635</td>\n",
       "      <td>((((RPM / Dc) * WOB) / (UCS - WOB)) - NOB)</td>\n",
       "      <td>-NOB + RPM*WOB/(Dc*(UCS - WOB))</td>\n",
       "      <td>&lt;function _lambdifygenerated at 0x000001E14E8C...</td>\n",
       "    </tr>\n",
       "    <tr>\n",
       "      <th>6</th>\n",
       "      <td>13</td>\n",
       "      <td>65.335846</td>\n",
       "      <td>0.191202</td>\n",
       "      <td>(((((RPM + 21.14382) / Dc) * WOB) / (UCS - WOB...</td>\n",
       "      <td>-NOC + WOB*(RPM + 21.14382)/(Dc*(UCS - WOB))</td>\n",
       "      <td>&lt;function _lambdifygenerated at 0x000001E14E8C...</td>\n",
       "    </tr>\n",
       "    <tr>\n",
       "      <th>7</th>\n",
       "      <td>15</td>\n",
       "      <td>43.864544</td>\n",
       "      <td>0.199217</td>\n",
       "      <td>((((((RPM + 22.46982) / Dc) * WOB) / (UCS - WO...</td>\n",
       "      <td>-NOB - NOC + WOB*(RPM + 22.46982)/(Dc*(UCS - W...</td>\n",
       "      <td>&lt;function _lambdifygenerated at 0x000001E14E8C...</td>\n",
       "    </tr>\n",
       "    <tr>\n",
       "      <th>8</th>\n",
       "      <td>17</td>\n",
       "      <td>37.821293</td>\n",
       "      <td>0.074117</td>\n",
       "      <td>(pow(((((RPM + 98.457596) / Dc) * WOB) / (UCS ...</td>\n",
       "      <td>0.31298584*Abs(NOC - WOB*(RPM + 98.457596)/(Dc...</td>\n",
       "      <td>&lt;function _lambdifygenerated at 0x000001E14E8C...</td>\n",
       "    </tr>\n",
       "    <tr>\n",
       "      <th>9</th>\n",
       "      <td>19</td>\n",
       "      <td>27.875923</td>\n",
       "      <td>0.152554</td>\n",
       "      <td>(pow((((((RPM + 98.457596) / Dc) * WOB) / (UCS...</td>\n",
       "      <td>0.31298584*Abs(NOB + NOC - WOB*(RPM + 98.45759...</td>\n",
       "      <td>&lt;function _lambdifygenerated at 0x000001E14E8C...</td>\n",
       "    </tr>\n",
       "  </tbody>\n",
       "</table>\n",
       "</div>"
      ],
      "text/plain": [
       "   Complexity          MSE     score  \\\n",
       "0           1  1064.938000  0.000000   \n",
       "1           3   669.070200  0.232391   \n",
       "2           5   597.903900  0.056229   \n",
       "3           7   161.605270  0.654137   \n",
       "4           9   148.593520  0.041971   \n",
       "5          11    95.769510  0.219635   \n",
       "6          13    65.335846  0.191202   \n",
       "7          15    43.864544  0.199217   \n",
       "8          17    37.821293  0.074117   \n",
       "9          19    27.875923  0.152554   \n",
       "\n",
       "                                            Equation  \\\n",
       "0                                                 BR   \n",
       "1                                        (RPM / NOB)   \n",
       "2                                (RPM / pow(BR, Dc))   \n",
       "3                         (((RPM / Dc) * WOB) / UCS)   \n",
       "4                 ((((RPM / Dc) * WOB) / UCS) - NOB)   \n",
       "5         ((((RPM / Dc) * WOB) / (UCS - WOB)) - NOB)   \n",
       "6  (((((RPM + 21.14382) / Dc) * WOB) / (UCS - WOB...   \n",
       "7  ((((((RPM + 22.46982) / Dc) * WOB) / (UCS - WO...   \n",
       "8  (pow(((((RPM + 98.457596) / Dc) * WOB) / (UCS ...   \n",
       "9  (pow((((((RPM + 98.457596) / Dc) * WOB) / (UCS...   \n",
       "\n",
       "                                        sympy_format  \\\n",
       "0                                                 BR   \n",
       "1                                            RPM/NOB   \n",
       "2                                 RPM*Abs(BR)**(-Dc)   \n",
       "3                                   RPM*WOB/(Dc*UCS)   \n",
       "4                            -NOB + RPM*WOB/(Dc*UCS)   \n",
       "5                    -NOB + RPM*WOB/(Dc*(UCS - WOB))   \n",
       "6       -NOC + WOB*(RPM + 21.14382)/(Dc*(UCS - WOB))   \n",
       "7  -NOB - NOC + WOB*(RPM + 22.46982)/(Dc*(UCS - W...   \n",
       "8  0.31298584*Abs(NOC - WOB*(RPM + 98.457596)/(Dc...   \n",
       "9  0.31298584*Abs(NOB + NOC - WOB*(RPM + 98.45759...   \n",
       "\n",
       "                                       lambda_format  \n",
       "0  <function _lambdifygenerated at 0x000001E14E78...  \n",
       "1  <function _lambdifygenerated at 0x000001E14E78...  \n",
       "2  <function _lambdifygenerated at 0x000001E14E78...  \n",
       "3  <function _lambdifygenerated at 0x000001E14E8C...  \n",
       "4  <function _lambdifygenerated at 0x000001E14E8C...  \n",
       "5  <function _lambdifygenerated at 0x000001E14E8C...  \n",
       "6  <function _lambdifygenerated at 0x000001E14E8C...  \n",
       "7  <function _lambdifygenerated at 0x000001E14E8C...  \n",
       "8  <function _lambdifygenerated at 0x000001E14E8C...  \n",
       "9  <function _lambdifygenerated at 0x000001E14E8C...  "
      ]
     },
     "execution_count": 40,
     "metadata": {},
     "output_type": "execute_result"
    }
   ],
   "source": [
    "equations"
   ]
  },
  {
   "cell_type": "markdown",
   "metadata": {},
   "source": [
    "Define a function and edit it with the best function found by pysr library."
   ]
  },
  {
   "cell_type": "code",
   "execution_count": 30,
   "metadata": {},
   "outputs": [],
   "source": [
    "def best_equation(row):\n",
    "    WOB, Db, RPM, UCS, NOC, BR, SR, Dc, NOB = row\n",
    "    Y= (pow((((((RPM + 98.457596) / Dc) * WOB) / (UCS - WOB)) - NOB) - NOC, 1.1348255) * 0.31298584)\n",
    "    \n",
    "    return Y"
   ]
  },
  {
   "cell_type": "markdown",
   "metadata": {},
   "source": [
    "Compare the results of PDC ROP model found by pysr with the data."
   ]
  },
  {
   "cell_type": "code",
   "execution_count": 50,
   "metadata": {},
   "outputs": [
    {
     "data": {
      "image/png": "[encoded data removed]",
      "text/plain": [
       "<Figure size 1296x504 with 1 Axes>"
      ]
     },
     "metadata": {
      "needs_background": "light"
     },
     "output_type": "display_data"
    }
   ],
   "source": [
    "estimated = np.apply_along_axis(best_equation, 1, X_np)\n",
    "plt.figure(figsize=(18,7))\n",
    "plt.plot(estimated, label=\"Best PDC ROP Model\")\n",
    "plt.plot(Y_np, label=\"Data\")\n",
    "plt.title(\"Comparison between PDC ROP Model found by AI and ROP DATA\")\n",
    "plt.xlabel(\"Data point number\")\n",
    "plt.ylabel(\"ROP Data (ft/hr)\")\n",
    "plt.legend()\n",
    "plt.show()"
   ]
  },
  {
   "cell_type": "code",
   "execution_count": 51,
   "metadata": {},
   "outputs": [
    {
     "data": {
      "image/png": "[encoded data removed]",
      "text/plain": [
       "<Figure size 504x504 with 1 Axes>"
      ]
     },
     "metadata": {
      "needs_background": "light"
     },
     "output_type": "display_data"
    }
   ],
   "source": [
    "plt.figure(figsize=(7,7))\n",
    "plt.scatter(estimated, Y_np)\n",
    "plt.xlim(0,120),plt.xlabel(\"PDC ROP Model estimation (ft/hr)\")\n",
    "plt.ylim(0,120),plt.ylabel(\"ROP Data (ft/hr)\")\n",
    "plt.show()"
   ]
  },
  {
   "cell_type": "code",
   "execution_count": null,
   "metadata": {},
   "outputs": [],
   "source": []
  },
  {
   "cell_type": "code",
   "execution_count": null,
   "metadata": {},
   "outputs": [],
   "source": []
  }
 ],
 "metadata": {
  "interpreter": {
   "hash": "8e8bcbdb95216a37a2dcd71944774c4115a1008460043c77ce41306a03579f88"
  },
  "kernelspec": {
   "display_name": "Python 3",
   "language": "python",
   "name": "python3"
  },
  "language_info": {
   "codemirror_mode": {
    "name": "ipython",
    "version": 3
   },
   "file_extension": ".py",
   "mimetype": "text/x-python",
   "name": "python",
   "nbconvert_exporter": "python",
   "pygments_lexer": "ipython3",
   "version": "3.6.4"
  }
 },
 "nbformat": 4,
 "nbformat_minor": 2
}
