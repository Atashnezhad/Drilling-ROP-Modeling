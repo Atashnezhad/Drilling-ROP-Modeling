{
 "cells": [
  {
   "cell_type": "markdown",
   "metadata": {},
   "source": [
    "# Developing PDC ROP model using symbolic regression and pysr library"
   ]
  },
  {
   "cell_type": "markdown",
   "metadata": {},
   "source": [
    "### Import neccassary libraries"
   ]
  },
  {
   "cell_type": "code",
   "execution_count": 1,
   "metadata": {},
   "outputs": [],
   "source": [
    "# !/Users/amin/anaconda3/bin/python -m pip install pysr"
   ]
  },
  {
   "cell_type": "code",
   "execution_count": 2,
   "metadata": {},
   "outputs": [],
   "source": [
    "import pandas as pd\n",
    "import numpy as np\n",
    "from pysr import pysr, best\n",
    "from sklearn import preprocessing\n",
    "\n",
    "import matplotlib.pylab as plt\n",
    "\n",
    "import seaborn as sns\n",
    "from sklearn.metrics import confusion_matrix\n",
    "from sklearn.metrics import accuracy_score\n",
    "import sys\n",
    "import math\n",
    "from scipy.optimize import curve_fit\n",
    "\n",
    "from tabulate import tabulate\n",
    "%config InlineBackend.figure_format = 'retina'"
   ]
  },
  {
   "cell_type": "markdown",
   "metadata": {},
   "source": [
    "* In this study, we use the Sandia National Lab and National Oil Varco full PDC bit data.\n",
    "* The data was published in ARMA conference 55TH US ROCK MECHANICS / GEOMECHANICS SYMPOSIUM 18-25 June 2021 Online.\n",
    "* Paper titel is \"ROP Model for PDC Bits in Geothermal Drilling\"."
   ]
  },
  {
   "cell_type": "markdown",
   "metadata": {},
   "source": [
    "### Read the PDC ROP data"
   ]
  },
  {
   "cell_type": "code",
   "execution_count": 3,
   "metadata": {},
   "outputs": [
    {
     "data": {
      "text/html": [
       "<div>\n",
       "<style scoped>\n",
       "    .dataframe tbody tr th:only-of-type {\n",
       "        vertical-align: middle;\n",
       "    }\n",
       "\n",
       "    .dataframe tbody tr th {\n",
       "        vertical-align: top;\n",
       "    }\n",
       "\n",
       "    .dataframe thead th {\n",
       "        text-align: right;\n",
       "    }\n",
       "</style>\n",
       "<table border=\"1\" class=\"dataframe\">\n",
       "  <thead>\n",
       "    <tr style=\"text-align: right;\">\n",
       "      <th></th>\n",
       "      <th>year</th>\n",
       "      <th>name</th>\n",
       "      <th>WOB</th>\n",
       "      <th>ROP data</th>\n",
       "      <th>Db</th>\n",
       "      <th>RPM</th>\n",
       "      <th>UCS</th>\n",
       "      <th>NOC</th>\n",
       "      <th>BR</th>\n",
       "      <th>SR</th>\n",
       "      <th>Dc</th>\n",
       "      <th>NOB</th>\n",
       "    </tr>\n",
       "  </thead>\n",
       "  <tbody>\n",
       "    <tr>\n",
       "      <th>0</th>\n",
       "      <td>2019</td>\n",
       "      <td>SWG</td>\n",
       "      <td>2543.8</td>\n",
       "      <td>6.2</td>\n",
       "      <td>3.75</td>\n",
       "      <td>80</td>\n",
       "      <td>28000</td>\n",
       "      <td>11</td>\n",
       "      <td>25</td>\n",
       "      <td>1</td>\n",
       "      <td>0.51</td>\n",
       "      <td>4</td>\n",
       "    </tr>\n",
       "    <tr>\n",
       "      <th>1</th>\n",
       "      <td>2019</td>\n",
       "      <td>SWG</td>\n",
       "      <td>3048.9</td>\n",
       "      <td>11.9</td>\n",
       "      <td>3.75</td>\n",
       "      <td>80</td>\n",
       "      <td>28000</td>\n",
       "      <td>11</td>\n",
       "      <td>25</td>\n",
       "      <td>1</td>\n",
       "      <td>0.51</td>\n",
       "      <td>4</td>\n",
       "    </tr>\n",
       "    <tr>\n",
       "      <th>2</th>\n",
       "      <td>2019</td>\n",
       "      <td>SWG</td>\n",
       "      <td>3538.7</td>\n",
       "      <td>19.5</td>\n",
       "      <td>3.75</td>\n",
       "      <td>80</td>\n",
       "      <td>28000</td>\n",
       "      <td>11</td>\n",
       "      <td>25</td>\n",
       "      <td>1</td>\n",
       "      <td>0.51</td>\n",
       "      <td>4</td>\n",
       "    </tr>\n",
       "    <tr>\n",
       "      <th>3</th>\n",
       "      <td>2019</td>\n",
       "      <td>SWG</td>\n",
       "      <td>4066.2</td>\n",
       "      <td>28.6</td>\n",
       "      <td>3.75</td>\n",
       "      <td>80</td>\n",
       "      <td>28000</td>\n",
       "      <td>11</td>\n",
       "      <td>25</td>\n",
       "      <td>1</td>\n",
       "      <td>0.51</td>\n",
       "      <td>4</td>\n",
       "    </tr>\n",
       "    <tr>\n",
       "      <th>4</th>\n",
       "      <td>2019</td>\n",
       "      <td>SWG</td>\n",
       "      <td>4574.9</td>\n",
       "      <td>36.6</td>\n",
       "      <td>3.75</td>\n",
       "      <td>80</td>\n",
       "      <td>28000</td>\n",
       "      <td>11</td>\n",
       "      <td>25</td>\n",
       "      <td>1</td>\n",
       "      <td>0.51</td>\n",
       "      <td>4</td>\n",
       "    </tr>\n",
       "  </tbody>\n",
       "</table>\n",
       "</div>"
      ],
      "text/plain": [
       "   year name      WOB  ROP data    Db  RPM    UCS  NOC  BR  SR    Dc  NOB\n",
       "0  2019   SWG  2543.8       6.2  3.75   80  28000   11  25   1  0.51    4\n",
       "1  2019   SWG  3048.9      11.9  3.75   80  28000   11  25   1  0.51    4\n",
       "2  2019   SWG  3538.7      19.5  3.75   80  28000   11  25   1  0.51    4\n",
       "3  2019   SWG  4066.2      28.6  3.75   80  28000   11  25   1  0.51    4\n",
       "4  2019   SWG  4574.9      36.6  3.75   80  28000   11  25   1  0.51    4"
      ]
     },
     "execution_count": 3,
     "metadata": {},
     "output_type": "execute_result"
    }
   ],
   "source": [
    "# inserting the parent directory into current path\n",
    "sys.path.insert(1, '../OpenSource_ROP_Models/ROP models/A PDC ROP model developed by AI/')\n",
    "data = pd.read_csv(\"../A PDC ROP model developed by AI/Data/ROP data.csv\")\n",
    "data.head()\n",
    "data.head()"
   ]
  },
  {
   "cell_type": "markdown",
   "metadata": {},
   "source": [
    "Print data tabulated."
   ]
  },
  {
   "cell_type": "code",
   "execution_count": 33,
   "metadata": {},
   "outputs": [
    {
     "name": "stdout",
     "output_type": "stream",
     "text": [
      "|   year | name       |     WOB |   ROP data |   Db |   RPM |   UCS |   NOC |   BR |   SR |   Dc |   NOB |\n",
      "|--------|------------|---------|------------|------|-------|-------|-------|------|------|------|-------|\n",
      "|   2019 | SWG        | 2543.8  |    6.2     | 3.75 |    80 | 28000 |    11 |   25 |    1 | 0.51 |     4 |\n",
      "|   2019 | SWG        | 3048.9  |   11.9     | 3.75 |    80 | 28000 |    11 |   25 |    1 | 0.51 |     4 |\n",
      "|   2019 | SWG        | 3538.7  |   19.5     | 3.75 |    80 | 28000 |    11 |   25 |    1 | 0.51 |     4 |\n",
      "|   2019 | SWG        | 4066.2  |   28.6     | 3.75 |    80 | 28000 |    11 |   25 |    1 | 0.51 |     4 |\n",
      "|   2019 | SWG        | 4574.9  |   36.6     | 3.75 |    80 | 28000 |    11 |   25 |    1 | 0.51 |     4 |\n",
      "|   2019 | SWG        | 2579.8  |    8.5     | 3.75 |   120 | 28000 |    11 |   25 |    1 | 0.51 |     4 |\n",
      "|   2019 | SWG        | 3051.5  |   14.8     | 3.75 |   120 | 28000 |    11 |   25 |    1 | 0.51 |     4 |\n",
      "|   2019 | SWG        | 3471.8  |   23.8     | 3.75 |   120 | 28000 |    11 |   25 |    1 | 0.51 |     4 |\n",
      "|   2019 | SWG        | 4091.9  |   37.1     | 3.75 |   120 | 28000 |    11 |   25 |    1 | 0.51 |     4 |\n",
      "|   2019 | SWG        | 4481    |   46.5     | 3.75 |   120 | 28000 |    11 |   25 |    1 | 0.51 |     4 |\n",
      "|   2019 | SWG        | 2599.3  |    9.1     | 3.75 |   160 | 28000 |    11 |   25 |    1 | 0.51 |     4 |\n",
      "|   2019 | SWG        | 3051.3  |   15       | 3.75 |   160 | 28000 |    11 |   25 |    1 | 0.51 |     4 |\n",
      "|   2019 | SWG        | 3602.5  |   28.5     | 3.75 |   160 | 28000 |    11 |   25 |    1 | 0.51 |     4 |\n",
      "|   2019 | SWG        | 4049.4  |   42       | 3.75 |   160 | 28000 |    11 |   25 |    1 | 0.51 |     4 |\n",
      "|   2019 | SWG        | 4442.1  |   53.8     | 3.75 |   160 | 28000 |    11 |   25 |    1 | 0.51 |     4 |\n",
      "|   2019 | SWG        | 2037.45 |    2.59413 | 3.75 |    80 | 28000 |    16 |   25 |    1 | 0.51 |     5 |\n",
      "|   2019 | SWG        | 2586.17 |    4.77269 | 3.75 |    80 | 28000 |    16 |   25 |    1 | 0.51 |     5 |\n",
      "|   2019 | SWG        | 3042.9  |    7.49466 | 3.75 |    80 | 28000 |    16 |   25 |    1 | 0.51 |     5 |\n",
      "|   2019 | SWG        | 3479.58 |   10.8073  | 3.75 |    80 | 28000 |    16 |   25 |    1 | 0.51 |     5 |\n",
      "|   2019 | SWG        | 4044.91 |   16.7129  | 3.75 |    80 | 28000 |    16 |   25 |    1 | 0.51 |     5 |\n",
      "|   2019 | SWG        | 4478.56 |   21.6259  | 3.75 |    80 | 28000 |    16 |   25 |    1 | 0.51 |     5 |\n",
      "|   2019 | SWG        | 1552.38 |    1.64693 | 3.75 |   120 | 28000 |    16 |   25 |    1 | 0.51 |     5 |\n",
      "|   2019 | SWG        | 2011.61 |    2.99998 | 3.75 |   120 | 28000 |    16 |   25 |    1 | 0.51 |     5 |\n",
      "|   2019 | SWG        | 2520.57 |    5.88908 | 3.75 |   120 | 28000 |    16 |   25 |    1 | 0.51 |     5 |\n",
      "|   2019 | SWG        | 2814.27 |    7.82643 | 3.75 |   120 | 28000 |    16 |   25 |    1 | 0.51 |     5 |\n",
      "|   2019 | SWG        | 3024.2  |    9.58501 | 3.75 |   120 | 28000 |    16 |   25 |    1 | 0.51 |     5 |\n",
      "|   2019 | SWG        | 3474.82 |   17.3953  | 3.75 |   120 | 28000 |    16 |   25 |    1 | 0.51 |     5 |\n",
      "|   2019 | SWG        | 4040.72 |   22.0154  | 3.75 |   120 | 28000 |    16 |   25 |    1 | 0.51 |     5 |\n",
      "|   2019 | SWG        | 4510.9  |   30.5571  | 3.75 |   120 | 28000 |    16 |   25 |    1 | 0.51 |     5 |\n",
      "|   2019 | SWG        | 5088.25 |   41.7214  | 3.75 |   120 | 28000 |    16 |   25 |    1 | 0.51 |     5 |\n",
      "|   2019 | SWG        | 2023.68 |    3.67501 | 3.75 |   160 | 28000 |    16 |   25 |    1 | 0.51 |     5 |\n",
      "|   2019 | SWG        | 2496.33 |    6.43931 | 3.75 |   160 | 28000 |    16 |   25 |    1 | 0.51 |     5 |\n",
      "|   2019 | SWG        | 3052.56 |   11.575   | 3.75 |   160 | 28000 |    16 |   25 |    1 | 0.51 |     5 |\n",
      "|   2019 | SWG        | 3482.5  |   16.6285  | 3.75 |   160 | 28000 |    16 |   25 |    1 | 0.51 |     5 |\n",
      "|   2019 | SWG        | 4048.65 |   26.35    | 3.75 |   160 | 28000 |    16 |   25 |    1 | 0.51 |     5 |\n",
      "|   2019 | SWG        | 4517.78 |   37.8125  | 3.75 |   160 | 28000 |    16 |   25 |    1 | 0.51 |     5 |\n",
      "|   2019 | SWG        | 4990.36 |   48.45    | 3.75 |   160 | 28000 |    16 |   25 |    1 | 0.51 |     5 |\n",
      "|   2015 | SWG_4B_100 | 2300    |    9.9     | 3.75 |   100 | 28000 |    11 |   15 |    1 | 0.43 |     4 |\n",
      "|   2015 | SWG_4B_100 | 2420    |   11       | 3.75 |   100 | 28000 |    11 |   15 |    1 | 0.43 |     4 |\n",
      "|   2015 | SWG_4B_100 | 2660    |   14.7     | 3.75 |   100 | 28000 |    11 |   15 |    1 | 0.43 |     4 |\n",
      "|   2015 | SWG_4B_100 | 2910    |   18.1     | 3.75 |   100 | 28000 |    11 |   15 |    1 | 0.43 |     4 |\n",
      "|   2015 | SWG_4B_100 | 3180    |   22.6     | 3.75 |   100 | 28000 |    11 |   15 |    1 | 0.43 |     4 |\n",
      "|   2015 | SWG_4B_100 | 3410    |   27.2     | 3.75 |   100 | 28000 |    11 |   15 |    1 | 0.43 |     4 |\n",
      "|   2015 | SWG_4B_100 | 3660    |   31.1     | 3.75 |   100 | 28000 |    11 |   15 |    1 | 0.43 |     4 |\n",
      "|   2015 | SWG_4B_100 | 3940    |   36.5     | 3.75 |   100 | 28000 |    11 |   15 |    1 | 0.43 |     4 |\n",
      "|   2015 | SWG_4B_100 | 4170    |   39.4     | 3.75 |   100 | 28000 |    11 |   15 |    1 | 0.43 |     4 |\n",
      "|   2015 | SWG_4B_150 | 2150    |   10.2     | 3.75 |   150 | 28000 |    11 |   15 |    1 | 0.43 |     4 |\n",
      "|   2015 | SWG_4B_150 | 2300    |   11.9     | 3.75 |   150 | 28000 |    11 |   15 |    1 | 0.43 |     4 |\n",
      "|   2015 | SWG_4B_150 | 2560    |   15.1     | 3.75 |   150 | 28000 |    11 |   15 |    1 | 0.43 |     4 |\n",
      "|   2015 | SWG_4B_150 | 2810    |   19.6     | 3.75 |   150 | 28000 |    11 |   15 |    1 | 0.43 |     4 |\n",
      "|   2015 | SWG_4B_150 | 3060    |   25.6     | 3.75 |   150 | 28000 |    11 |   15 |    1 | 0.43 |     4 |\n",
      "|   2015 | SWG_4B_150 | 3290    |   31.4     | 3.75 |   150 | 28000 |    11 |   15 |    1 | 0.43 |     4 |\n",
      "|   2015 | SWG_4B_150 | 3540    |   37.7     | 3.75 |   150 | 28000 |    11 |   15 |    1 | 0.43 |     4 |\n",
      "|   2015 | SWG_4B_150 | 3820    |   44.3     | 3.75 |   150 | 28000 |    11 |   15 |    1 | 0.43 |     4 |\n",
      "|   2015 | SWG_4B_150 | 4070    |   50.8     | 3.75 |   150 | 28000 |    11 |   15 |    1 | 0.43 |     4 |\n",
      "|   2015 | SWG_5B_100 | 2250    |   10.5     | 3.75 |   100 | 28000 |    12 |   15 |    1 | 0.43 |     5 |\n",
      "|   2015 | SWG_5B_100 | 2390    |   12.3     | 3.75 |   100 | 28000 |    12 |   15 |    1 | 0.43 |     5 |\n",
      "|   2015 | SWG_5B_100 | 2620    |   15.9     | 3.75 |   100 | 28000 |    12 |   15 |    1 | 0.43 |     5 |\n",
      "|   2015 | SWG_5B_100 | 2860    |   19.5     | 3.75 |   100 | 28000 |    12 |   15 |    1 | 0.43 |     5 |\n",
      "|   2015 | SWG_5B_100 | 3100    |   25.9     | 3.75 |   100 | 28000 |    12 |   15 |    1 | 0.43 |     5 |\n",
      "|   2015 | SWG_5B_100 | 3310    |   30.8     | 3.75 |   100 | 28000 |    12 |   15 |    1 | 0.43 |     5 |\n",
      "|   2015 | SWG_5B_100 | 3560    |   35.9     | 3.75 |   100 | 28000 |    12 |   15 |    1 | 0.43 |     5 |\n",
      "|   2015 | SWG_5B_100 | 3850    |   40.4     | 3.75 |   100 | 28000 |    12 |   15 |    1 | 0.43 |     5 |\n",
      "|   2015 | SWG_5B_100 | 4100    |   44.6     | 3.75 |   100 | 28000 |    12 |   15 |    1 | 0.43 |     5 |\n",
      "|   2015 | SWG_5B_150 | 2150    |   11.5     | 3.75 |   150 | 28000 |    12 |   15 |    1 | 0.43 |     5 |\n",
      "|   2015 | SWG_5B_150 | 2320    |   13.4     | 3.75 |   150 | 28000 |    12 |   15 |    1 | 0.43 |     5 |\n",
      "|   2015 | SWG_5B_150 | 2550    |   16.2     | 3.75 |   150 | 28000 |    12 |   15 |    1 | 0.43 |     5 |\n",
      "|   2015 | SWG_5B_150 | 2790    |   21.6     | 3.75 |   150 | 28000 |    12 |   15 |    1 | 0.43 |     5 |\n",
      "|   2015 | SWG_5B_150 | 3020    |   28.4     | 3.75 |   150 | 28000 |    12 |   15 |    1 | 0.43 |     5 |\n",
      "|   2015 | SWG_5B_150 | 3260    |   34.3     | 3.75 |   150 | 28000 |    12 |   15 |    1 | 0.43 |     5 |\n",
      "|   2015 | SWG_5B_150 | 3500    |   41.1     | 3.75 |   150 | 28000 |    12 |   15 |    1 | 0.43 |     5 |\n",
      "|   2015 | SWG_5B_150 | 3790    |   48.9     | 3.75 |   150 | 28000 |    12 |   15 |    1 | 0.43 |     5 |\n",
      "|   2015 | SWG_5B_150 | 4090    |   54.5     | 3.75 |   150 | 28000 |    12 |   15 |    1 | 0.43 |     5 |\n",
      "|   2015 | BSS_4B_100 | 1180    |   48.9     | 3.75 |   100 |  7100 |    11 |   15 |    1 | 0.43 |     4 |\n",
      "|   2015 | BSS_4B_100 | 1230    |   53.4     | 3.75 |   100 |  7100 |    11 |   15 |    1 | 0.43 |     4 |\n",
      "|   2015 | BSS_4B_100 | 1360    |   54       | 3.75 |   100 |  7100 |    11 |   15 |    1 | 0.43 |     4 |\n",
      "|   2015 | BSS_4B_100 | 1510    |   62       | 3.75 |   100 |  7100 |    11 |   15 |    1 | 0.43 |     4 |\n",
      "|   2015 | BSS_4B_100 | 1650    |   70.8     | 3.75 |   100 |  7100 |    11 |   15 |    1 | 0.43 |     4 |\n",
      "|   2015 | BSS_4B_100 | 1730    |   81.3     | 3.75 |   100 |  7100 |    11 |   15 |    1 | 0.43 |     4 |\n",
      "|   2015 | BSS_4B_100 | 1780    |   84.1     | 3.75 |   100 |  7100 |    11 |   15 |    1 | 0.43 |     4 |\n",
      "|   2015 | BSS_4B_150 | 1090    |   61.9     | 3.75 |   150 |  7100 |    11 |   15 |    1 | 0.43 |     4 |\n",
      "|   2015 | BSS_4B_150 | 1110    |   64.5     | 3.75 |   150 |  7100 |    11 |   15 |    1 | 0.43 |     4 |\n",
      "|   2015 | BSS_4B_150 | 1300    |   71.7     | 3.75 |   150 |  7100 |    11 |   15 |    1 | 0.43 |     4 |\n",
      "|   2015 | BSS_4B_150 | 1520    |   91.5     | 3.75 |   150 |  7100 |    11 |   15 |    1 | 0.43 |     4 |\n",
      "|   2015 | BSS_4B_150 | 1720    |  102.9     | 3.75 |   150 |  7100 |    11 |   15 |    1 | 0.43 |     4 |\n",
      "|   2015 | BSS_4B_150 | 1770    |  106.9     | 3.75 |   150 |  7100 |    11 |   15 |    1 | 0.43 |     4 |\n",
      "|   2015 | BSS_4B_150 | 1960    |  127.7     | 3.75 |   150 |  7100 |    11 |   15 |    1 | 0.43 |     4 |\n",
      "|   2016 | BSS_4B_151 | 1960    |  127.7     | 3.75 |   150 |  7100 |    11 |   15 |    1 | 0.43 |     4 |\n"
     ]
    }
   ],
   "source": [
    "# print(tabulate(data, headers = 'keys', tablefmt = 'github'))\n",
    "print(tabulate(data,\n",
    "                headers='keys',\n",
    "                tablefmt='github',\n",
    "                floatfmt='g',\n",
    "                numalign='decimal',\n",
    "                stralign='left',\n",
    "                missingval='',\n",
    "                showindex='None',\n",
    "                disable_numparse=False,\n",
    "                colalign=None),\n",
    "     )"
   ]
  },
  {
   "cell_type": "markdown",
   "metadata": {},
   "source": [
    "Check out the data frame column names."
   ]
  },
  {
   "cell_type": "code",
   "execution_count": 5,
   "metadata": {},
   "outputs": [
    {
     "data": {
      "text/plain": [
       "Index(['year', 'name ', 'WOB', 'ROP data', 'Db', 'RPM', 'UCS', 'NOC', 'BR',\n",
       "       'SR', 'Dc', 'NOB'],\n",
       "      dtype='object')"
      ]
     },
     "execution_count": 5,
     "metadata": {},
     "output_type": "execute_result"
    }
   ],
   "source": [
    "data.columns"
   ]
  },
  {
   "cell_type": "markdown",
   "metadata": {},
   "source": [
    "Separate the independent (X) and dependant (Y) parameters"
   ]
  },
  {
   "cell_type": "code",
   "execution_count": 6,
   "metadata": {},
   "outputs": [],
   "source": [
    "keep_clmns = ['WOB', 'Db', 'RPM', 'UCS', 'NOC', 'BR', 'SR', 'Dc', 'NOB']\n",
    "X = data[keep_clmns]\n",
    "\n",
    "keep_clmns = ['ROP data',]\n",
    "Y = data[keep_clmns]"
   ]
  },
  {
   "cell_type": "markdown",
   "metadata": {},
   "source": [
    "Check out the X and Y top 5 values"
   ]
  },
  {
   "cell_type": "code",
   "execution_count": 7,
   "metadata": {},
   "outputs": [
    {
     "data": {
      "text/html": [
       "<div>\n",
       "<style scoped>\n",
       "    .dataframe tbody tr th:only-of-type {\n",
       "        vertical-align: middle;\n",
       "    }\n",
       "\n",
       "    .dataframe tbody tr th {\n",
       "        vertical-align: top;\n",
       "    }\n",
       "\n",
       "    .dataframe thead th {\n",
       "        text-align: right;\n",
       "    }\n",
       "</style>\n",
       "<table border=\"1\" class=\"dataframe\">\n",
       "  <thead>\n",
       "    <tr style=\"text-align: right;\">\n",
       "      <th></th>\n",
       "      <th>WOB</th>\n",
       "      <th>Db</th>\n",
       "      <th>RPM</th>\n",
       "      <th>UCS</th>\n",
       "      <th>NOC</th>\n",
       "      <th>BR</th>\n",
       "      <th>SR</th>\n",
       "      <th>Dc</th>\n",
       "      <th>NOB</th>\n",
       "    </tr>\n",
       "  </thead>\n",
       "  <tbody>\n",
       "    <tr>\n",
       "      <th>0</th>\n",
       "      <td>2543.8</td>\n",
       "      <td>3.75</td>\n",
       "      <td>80</td>\n",
       "      <td>28000</td>\n",
       "      <td>11</td>\n",
       "      <td>25</td>\n",
       "      <td>1</td>\n",
       "      <td>0.51</td>\n",
       "      <td>4</td>\n",
       "    </tr>\n",
       "    <tr>\n",
       "      <th>1</th>\n",
       "      <td>3048.9</td>\n",
       "      <td>3.75</td>\n",
       "      <td>80</td>\n",
       "      <td>28000</td>\n",
       "      <td>11</td>\n",
       "      <td>25</td>\n",
       "      <td>1</td>\n",
       "      <td>0.51</td>\n",
       "      <td>4</td>\n",
       "    </tr>\n",
       "    <tr>\n",
       "      <th>2</th>\n",
       "      <td>3538.7</td>\n",
       "      <td>3.75</td>\n",
       "      <td>80</td>\n",
       "      <td>28000</td>\n",
       "      <td>11</td>\n",
       "      <td>25</td>\n",
       "      <td>1</td>\n",
       "      <td>0.51</td>\n",
       "      <td>4</td>\n",
       "    </tr>\n",
       "    <tr>\n",
       "      <th>3</th>\n",
       "      <td>4066.2</td>\n",
       "      <td>3.75</td>\n",
       "      <td>80</td>\n",
       "      <td>28000</td>\n",
       "      <td>11</td>\n",
       "      <td>25</td>\n",
       "      <td>1</td>\n",
       "      <td>0.51</td>\n",
       "      <td>4</td>\n",
       "    </tr>\n",
       "    <tr>\n",
       "      <th>4</th>\n",
       "      <td>4574.9</td>\n",
       "      <td>3.75</td>\n",
       "      <td>80</td>\n",
       "      <td>28000</td>\n",
       "      <td>11</td>\n",
       "      <td>25</td>\n",
       "      <td>1</td>\n",
       "      <td>0.51</td>\n",
       "      <td>4</td>\n",
       "    </tr>\n",
       "  </tbody>\n",
       "</table>\n",
       "</div>"
      ],
      "text/plain": [
       "      WOB    Db  RPM    UCS  NOC  BR  SR    Dc  NOB\n",
       "0  2543.8  3.75   80  28000   11  25   1  0.51    4\n",
       "1  3048.9  3.75   80  28000   11  25   1  0.51    4\n",
       "2  3538.7  3.75   80  28000   11  25   1  0.51    4\n",
       "3  4066.2  3.75   80  28000   11  25   1  0.51    4\n",
       "4  4574.9  3.75   80  28000   11  25   1  0.51    4"
      ]
     },
     "execution_count": 7,
     "metadata": {},
     "output_type": "execute_result"
    }
   ],
   "source": [
    "X.head()"
   ]
  },
  {
   "cell_type": "code",
   "execution_count": 8,
   "metadata": {},
   "outputs": [
    {
     "data": {
      "text/html": [
       "<div>\n",
       "<style scoped>\n",
       "    .dataframe tbody tr th:only-of-type {\n",
       "        vertical-align: middle;\n",
       "    }\n",
       "\n",
       "    .dataframe tbody tr th {\n",
       "        vertical-align: top;\n",
       "    }\n",
       "\n",
       "    .dataframe thead th {\n",
       "        text-align: right;\n",
       "    }\n",
       "</style>\n",
       "<table border=\"1\" class=\"dataframe\">\n",
       "  <thead>\n",
       "    <tr style=\"text-align: right;\">\n",
       "      <th></th>\n",
       "      <th>ROP data</th>\n",
       "    </tr>\n",
       "  </thead>\n",
       "  <tbody>\n",
       "    <tr>\n",
       "      <th>0</th>\n",
       "      <td>6.2</td>\n",
       "    </tr>\n",
       "    <tr>\n",
       "      <th>1</th>\n",
       "      <td>11.9</td>\n",
       "    </tr>\n",
       "    <tr>\n",
       "      <th>2</th>\n",
       "      <td>19.5</td>\n",
       "    </tr>\n",
       "    <tr>\n",
       "      <th>3</th>\n",
       "      <td>28.6</td>\n",
       "    </tr>\n",
       "    <tr>\n",
       "      <th>4</th>\n",
       "      <td>36.6</td>\n",
       "    </tr>\n",
       "  </tbody>\n",
       "</table>\n",
       "</div>"
      ],
      "text/plain": [
       "   ROP data\n",
       "0       6.2\n",
       "1      11.9\n",
       "2      19.5\n",
       "3      28.6\n",
       "4      36.6"
      ]
     },
     "execution_count": 8,
     "metadata": {},
     "output_type": "execute_result"
    }
   ],
   "source": [
    "Y.head()"
   ]
  },
  {
   "cell_type": "markdown",
   "metadata": {},
   "source": [
    "Check out the mean, std, min and max values."
   ]
  },
  {
   "cell_type": "code",
   "execution_count": 9,
   "metadata": {},
   "outputs": [
    {
     "data": {
      "text/html": [
       "<div>\n",
       "<style scoped>\n",
       "    .dataframe tbody tr th:only-of-type {\n",
       "        vertical-align: middle;\n",
       "    }\n",
       "\n",
       "    .dataframe tbody tr th {\n",
       "        vertical-align: top;\n",
       "    }\n",
       "\n",
       "    .dataframe thead th {\n",
       "        text-align: right;\n",
       "    }\n",
       "</style>\n",
       "<table border=\"1\" class=\"dataframe\">\n",
       "  <thead>\n",
       "    <tr style=\"text-align: right;\">\n",
       "      <th></th>\n",
       "      <th>count</th>\n",
       "      <th>mean</th>\n",
       "      <th>std</th>\n",
       "      <th>min</th>\n",
       "      <th>25%</th>\n",
       "      <th>50%</th>\n",
       "      <th>75%</th>\n",
       "      <th>max</th>\n",
       "    </tr>\n",
       "  </thead>\n",
       "  <tbody>\n",
       "    <tr>\n",
       "      <th>WOB</th>\n",
       "      <td>88.0</td>\n",
       "      <td>2967.525501</td>\n",
       "      <td>986.156551</td>\n",
       "      <td>1090.00</td>\n",
       "      <td>2287.50</td>\n",
       "      <td>3033.55165</td>\n",
       "      <td>3692.50</td>\n",
       "      <td>5088.248694</td>\n",
       "    </tr>\n",
       "    <tr>\n",
       "      <th>Db</th>\n",
       "      <td>88.0</td>\n",
       "      <td>3.750000</td>\n",
       "      <td>0.000000</td>\n",
       "      <td>3.75</td>\n",
       "      <td>3.75</td>\n",
       "      <td>3.75000</td>\n",
       "      <td>3.75</td>\n",
       "      <td>3.750000</td>\n",
       "    </tr>\n",
       "    <tr>\n",
       "      <th>RPM</th>\n",
       "      <td>88.0</td>\n",
       "      <td>123.636364</td>\n",
       "      <td>28.169512</td>\n",
       "      <td>80.00</td>\n",
       "      <td>100.00</td>\n",
       "      <td>120.00000</td>\n",
       "      <td>150.00</td>\n",
       "      <td>160.000000</td>\n",
       "    </tr>\n",
       "    <tr>\n",
       "      <th>UCS</th>\n",
       "      <td>88.0</td>\n",
       "      <td>24437.500000</td>\n",
       "      <td>7904.099220</td>\n",
       "      <td>7100.00</td>\n",
       "      <td>28000.00</td>\n",
       "      <td>28000.00000</td>\n",
       "      <td>28000.00</td>\n",
       "      <td>28000.000000</td>\n",
       "    </tr>\n",
       "    <tr>\n",
       "      <th>NOC</th>\n",
       "      <td>88.0</td>\n",
       "      <td>12.454545</td>\n",
       "      <td>2.094926</td>\n",
       "      <td>11.00</td>\n",
       "      <td>11.00</td>\n",
       "      <td>11.00000</td>\n",
       "      <td>13.00</td>\n",
       "      <td>16.000000</td>\n",
       "    </tr>\n",
       "    <tr>\n",
       "      <th>BR</th>\n",
       "      <td>88.0</td>\n",
       "      <td>19.204545</td>\n",
       "      <td>4.964608</td>\n",
       "      <td>15.00</td>\n",
       "      <td>15.00</td>\n",
       "      <td>15.00000</td>\n",
       "      <td>25.00</td>\n",
       "      <td>25.000000</td>\n",
       "    </tr>\n",
       "    <tr>\n",
       "      <th>SR</th>\n",
       "      <td>88.0</td>\n",
       "      <td>1.000000</td>\n",
       "      <td>0.000000</td>\n",
       "      <td>1.00</td>\n",
       "      <td>1.00</td>\n",
       "      <td>1.00000</td>\n",
       "      <td>1.00</td>\n",
       "      <td>1.000000</td>\n",
       "    </tr>\n",
       "    <tr>\n",
       "      <th>Dc</th>\n",
       "      <td>88.0</td>\n",
       "      <td>0.463636</td>\n",
       "      <td>0.039717</td>\n",
       "      <td>0.43</td>\n",
       "      <td>0.43</td>\n",
       "      <td>0.43000</td>\n",
       "      <td>0.51</td>\n",
       "      <td>0.510000</td>\n",
       "    </tr>\n",
       "    <tr>\n",
       "      <th>NOB</th>\n",
       "      <td>88.0</td>\n",
       "      <td>4.454545</td>\n",
       "      <td>0.500783</td>\n",
       "      <td>4.00</td>\n",
       "      <td>4.00</td>\n",
       "      <td>4.00000</td>\n",
       "      <td>5.00</td>\n",
       "      <td>5.000000</td>\n",
       "    </tr>\n",
       "  </tbody>\n",
       "</table>\n",
       "</div>"
      ],
      "text/plain": [
       "     count          mean          std      min       25%          50%  \\\n",
       "WOB   88.0   2967.525501   986.156551  1090.00   2287.50   3033.55165   \n",
       "Db    88.0      3.750000     0.000000     3.75      3.75      3.75000   \n",
       "RPM   88.0    123.636364    28.169512    80.00    100.00    120.00000   \n",
       "UCS   88.0  24437.500000  7904.099220  7100.00  28000.00  28000.00000   \n",
       "NOC   88.0     12.454545     2.094926    11.00     11.00     11.00000   \n",
       "BR    88.0     19.204545     4.964608    15.00     15.00     15.00000   \n",
       "SR    88.0      1.000000     0.000000     1.00      1.00      1.00000   \n",
       "Dc    88.0      0.463636     0.039717     0.43      0.43      0.43000   \n",
       "NOB   88.0      4.454545     0.500783     4.00      4.00      4.00000   \n",
       "\n",
       "          75%           max  \n",
       "WOB   3692.50   5088.248694  \n",
       "Db       3.75      3.750000  \n",
       "RPM    150.00    160.000000  \n",
       "UCS  28000.00  28000.000000  \n",
       "NOC     13.00     16.000000  \n",
       "BR      25.00     25.000000  \n",
       "SR       1.00      1.000000  \n",
       "Dc       0.51      0.510000  \n",
       "NOB      5.00      5.000000  "
      ]
     },
     "execution_count": 9,
     "metadata": {},
     "output_type": "execute_result"
    }
   ],
   "source": [
    "X.describe().T"
   ]
  },
  {
   "cell_type": "code",
   "execution_count": 10,
   "metadata": {},
   "outputs": [
    {
     "data": {
      "text/html": [
       "<div>\n",
       "<style scoped>\n",
       "    .dataframe tbody tr th:only-of-type {\n",
       "        vertical-align: middle;\n",
       "    }\n",
       "\n",
       "    .dataframe tbody tr th {\n",
       "        vertical-align: top;\n",
       "    }\n",
       "\n",
       "    .dataframe thead th {\n",
       "        text-align: right;\n",
       "    }\n",
       "</style>\n",
       "<table border=\"1\" class=\"dataframe\">\n",
       "  <thead>\n",
       "    <tr style=\"text-align: right;\">\n",
       "      <th></th>\n",
       "      <th>count</th>\n",
       "      <th>mean</th>\n",
       "      <th>std</th>\n",
       "      <th>min</th>\n",
       "      <th>25%</th>\n",
       "      <th>50%</th>\n",
       "      <th>75%</th>\n",
       "      <th>max</th>\n",
       "    </tr>\n",
       "  </thead>\n",
       "  <tbody>\n",
       "    <tr>\n",
       "      <th>ROP data</th>\n",
       "      <td>88.0</td>\n",
       "      <td>33.051984</td>\n",
       "      <td>27.326698</td>\n",
       "      <td>1.646927</td>\n",
       "      <td>12.2</td>\n",
       "      <td>26.125011</td>\n",
       "      <td>44.375</td>\n",
       "      <td>127.7</td>\n",
       "    </tr>\n",
       "  </tbody>\n",
       "</table>\n",
       "</div>"
      ],
      "text/plain": [
       "          count       mean        std       min   25%        50%     75%  \\\n",
       "ROP data   88.0  33.051984  27.326698  1.646927  12.2  26.125011  44.375   \n",
       "\n",
       "            max  \n",
       "ROP data  127.7  "
      ]
     },
     "execution_count": 10,
     "metadata": {},
     "output_type": "execute_result"
    }
   ],
   "source": [
    "Y.describe().T"
   ]
  },
  {
   "cell_type": "markdown",
   "metadata": {},
   "source": [
    "Turn pandas data frame into the numpy array. Numpy arrays then will be fed into the pysr algorithm."
   ]
  },
  {
   "cell_type": "code",
   "execution_count": 11,
   "metadata": {},
   "outputs": [],
   "source": [
    "X_np = np.array(X)\n",
    "Y_np = np.array(Y)"
   ]
  },
  {
   "cell_type": "code",
   "execution_count": 12,
   "metadata": {},
   "outputs": [
    {
     "name": "stdout",
     "output_type": "stream",
     "text": [
      "The X_np shape is  (88, 9)\n",
      "The Y_np shape is  (88, 1)\n"
     ]
    }
   ],
   "source": [
    "print(\"The X_np shape is \", X_np.shape)\n",
    "print(\"The Y_np shape is \", Y_np.shape)"
   ]
  },
  {
   "cell_type": "markdown",
   "metadata": {},
   "source": [
    "Flatten the Y numpy."
   ]
  },
  {
   "cell_type": "code",
   "execution_count": 13,
   "metadata": {},
   "outputs": [
    {
     "name": "stdout",
     "output_type": "stream",
     "text": [
      "The Y_np_flat shape is  (88,)\n"
     ]
    }
   ],
   "source": [
    "Y_np_flat = Y_np.flatten()\n",
    "print(\"The Y_np_flat shape is \", Y_np_flat.shape)"
   ]
  },
  {
   "cell_type": "markdown",
   "metadata": {},
   "source": [
    "### Run the pysr library"
   ]
  },
  {
   "cell_type": "code",
   "execution_count": 14,
   "metadata": {},
   "outputs": [
    {
     "name": "stdout",
     "output_type": "stream",
     "text": [
      "I will install Julia packages using PySR's Project.toml file. OK? (y/n): y\n",
      "OK. I will install at launch.\n",
      "CPU times: user 67.8 ms, sys: 131 ms, total: 199 ms\n",
      "Wall time: 3min 31s\n"
     ]
    }
   ],
   "source": [
    "%%time\n",
    "# learn equation\n",
    "equations = pysr(X_np,\n",
    "                Y_np_flat,\n",
    "                loss=\"LPDistLoss{2}()\",\n",
    "                procs=10,\n",
    "                populations=5,\n",
    "                niterations=5,\n",
    "                binary_operators=[\"plus\", \"sub\", \"mult\", \"pow\", \"div\"],\n",
    "                unary_operators=[],\n",
    "                verbosity=0, \n",
    "                variable_names=['WOB', 'Db', 'RPM', 'UCS', 'NOC', 'BR', 'SR', 'Dc', 'NOB'])"
   ]
  },
  {
   "cell_type": "markdown",
   "metadata": {},
   "source": [
    "Here is the Hall of fame found hall_of_fame_2021-07-13_152922.804.csv.\n",
    "```\n",
    "Complexity|MSE|Equation\n",
    "1|738.2626|33.05189\n",
    "3|612.86194|pow(Dc, -4.44472)\n",
    "9|434.80283|(((WOB / 0.007634368) / UCS) - (RPM * -0.14428118))\n",
    "15|104.25465|((((((RPM - -51.921158) / Dc) * WOB) / 0.7383088) / UCS) - (RPM * 0.22271504))\n",
    "17|61.724953|(((((((RPM - -49.154247) / Dc) - NOC) * WOB) / 0.7277487) / UCS) - (RPM * 0.2236275))\n",
    "19|12.594536|(((((((RPM - -51.923843) / Dc) - pow(NOC, 1.5514544)) * WOB) * 1.3547826) / UCS) - (RPM * 0.22286956))\n",
    "```"
   ]
  },
  {
   "cell_type": "markdown",
   "metadata": {},
   "source": [
    "Check out the hall of fame equations"
   ]
  },
  {
   "cell_type": "code",
   "execution_count": 19,
   "metadata": {},
   "outputs": [
    {
     "data": {
      "text/html": [
       "<div>\n",
       "<style scoped>\n",
       "    .dataframe tbody tr th:only-of-type {\n",
       "        vertical-align: middle;\n",
       "    }\n",
       "\n",
       "    .dataframe tbody tr th {\n",
       "        vertical-align: top;\n",
       "    }\n",
       "\n",
       "    .dataframe thead th {\n",
       "        text-align: right;\n",
       "    }\n",
       "</style>\n",
       "<table border=\"1\" class=\"dataframe\">\n",
       "  <thead>\n",
       "    <tr style=\"text-align: right;\">\n",
       "      <th></th>\n",
       "      <th>Complexity</th>\n",
       "      <th>MSE</th>\n",
       "      <th>score</th>\n",
       "      <th>Equation</th>\n",
       "      <th>sympy_format</th>\n",
       "      <th>lambda_format</th>\n",
       "    </tr>\n",
       "  </thead>\n",
       "  <tbody>\n",
       "    <tr>\n",
       "      <th>0</th>\n",
       "      <td>1</td>\n",
       "      <td>738.262600</td>\n",
       "      <td>0.000000</td>\n",
       "      <td>33.05189</td>\n",
       "      <td>33.0518900000000</td>\n",
       "      <td>PySRFunction(X=&gt;33.0518900000000)</td>\n",
       "    </tr>\n",
       "    <tr>\n",
       "      <th>1</th>\n",
       "      <td>3</td>\n",
       "      <td>612.861940</td>\n",
       "      <td>0.093080</td>\n",
       "      <td>pow(Dc, -4.44472)</td>\n",
       "      <td>Abs(Dc)**(-4.44472)</td>\n",
       "      <td>PySRFunction(X=&gt;Abs(Dc)**(-4.44472))</td>\n",
       "    </tr>\n",
       "    <tr>\n",
       "      <th>2</th>\n",
       "      <td>9</td>\n",
       "      <td>434.802830</td>\n",
       "      <td>0.057208</td>\n",
       "      <td>(((WOB / 0.007634368) / UCS) - (RPM * -0.14428...</td>\n",
       "      <td>0.14428118*RPM + 130.986612120348*WOB/UCS</td>\n",
       "      <td>PySRFunction(X=&gt;0.14428118*RPM + 130.986612120...</td>\n",
       "    </tr>\n",
       "    <tr>\n",
       "      <th>3</th>\n",
       "      <td>15</td>\n",
       "      <td>104.254650</td>\n",
       "      <td>0.238009</td>\n",
       "      <td>((((((RPM - -51.921158) / Dc) * WOB) / 0.73830...</td>\n",
       "      <td>-0.22271504*RPM + 1.35444681141549*WOB*(RPM + ...</td>\n",
       "      <td>PySRFunction(X=&gt;-0.22271504*RPM + 1.3544468114...</td>\n",
       "    </tr>\n",
       "    <tr>\n",
       "      <th>4</th>\n",
       "      <td>17</td>\n",
       "      <td>61.724953</td>\n",
       "      <td>0.262074</td>\n",
       "      <td>(((((((RPM - -49.154247) / Dc) - NOC) * WOB) /...</td>\n",
       "      <td>-0.2236275*RPM + 1.37410070261891*WOB*(-NOC + ...</td>\n",
       "      <td>PySRFunction(X=&gt;-0.2236275*RPM + 1.37410070261...</td>\n",
       "    </tr>\n",
       "    <tr>\n",
       "      <th>5</th>\n",
       "      <td>19</td>\n",
       "      <td>12.594536</td>\n",
       "      <td>0.794713</td>\n",
       "      <td>(((((((RPM - -51.923843) / Dc) - pow(NOC, 1.55...</td>\n",
       "      <td>-0.22286956*RPM + 1.3547826*WOB*(-Abs(NOC)**1....</td>\n",
       "      <td>PySRFunction(X=&gt;-0.22286956*RPM + 1.3547826*WO...</td>\n",
       "    </tr>\n",
       "  </tbody>\n",
       "</table>\n",
       "</div>"
      ],
      "text/plain": [
       "   Complexity         MSE     score  \\\n",
       "0           1  738.262600  0.000000   \n",
       "1           3  612.861940  0.093080   \n",
       "2           9  434.802830  0.057208   \n",
       "3          15  104.254650  0.238009   \n",
       "4          17   61.724953  0.262074   \n",
       "5          19   12.594536  0.794713   \n",
       "\n",
       "                                            Equation  \\\n",
       "0                                           33.05189   \n",
       "1                                  pow(Dc, -4.44472)   \n",
       "2  (((WOB / 0.007634368) / UCS) - (RPM * -0.14428...   \n",
       "3  ((((((RPM - -51.921158) / Dc) * WOB) / 0.73830...   \n",
       "4  (((((((RPM - -49.154247) / Dc) - NOC) * WOB) /...   \n",
       "5  (((((((RPM - -51.923843) / Dc) - pow(NOC, 1.55...   \n",
       "\n",
       "                                        sympy_format  \\\n",
       "0                                   33.0518900000000   \n",
       "1                                Abs(Dc)**(-4.44472)   \n",
       "2          0.14428118*RPM + 130.986612120348*WOB/UCS   \n",
       "3  -0.22271504*RPM + 1.35444681141549*WOB*(RPM + ...   \n",
       "4  -0.2236275*RPM + 1.37410070261891*WOB*(-NOC + ...   \n",
       "5  -0.22286956*RPM + 1.3547826*WOB*(-Abs(NOC)**1....   \n",
       "\n",
       "                                       lambda_format  \n",
       "0                  PySRFunction(X=>33.0518900000000)  \n",
       "1               PySRFunction(X=>Abs(Dc)**(-4.44472))  \n",
       "2  PySRFunction(X=>0.14428118*RPM + 130.986612120...  \n",
       "3  PySRFunction(X=>-0.22271504*RPM + 1.3544468114...  \n",
       "4  PySRFunction(X=>-0.2236275*RPM + 1.37410070261...  \n",
       "5  PySRFunction(X=>-0.22286956*RPM + 1.3547826*WO...  "
      ]
     },
     "execution_count": 19,
     "metadata": {},
     "output_type": "execute_result"
    }
   ],
   "source": [
    "equations"
   ]
  },
  {
   "cell_type": "markdown",
   "metadata": {},
   "source": [
    "Define a function and edit it with the best function found by pysr library."
   ]
  },
  {
   "cell_type": "code",
   "execution_count": 58,
   "metadata": {},
   "outputs": [],
   "source": [
    "def best_equation(row):\n",
    "    WOB, Db, RPM, UCS, NOC, BR, SR, Dc, NOB = row\n",
    "#     Y= (pow((((((RPM + 98.457596) / Dc) * WOB) / (UCS - WOB)) - NOB) - NOC, 1.1348255) * 0.31298584)\n",
    "    Y= (((((((RPM - -51.923843) / Dc) - pow(NOC, 1.5514544)) * WOB) * 1.3547826) / UCS) - (RPM * 0.22286956))\n",
    "    return Y"
   ]
  },
  {
   "cell_type": "markdown",
   "metadata": {},
   "source": [
    "Compare the results of PDC ROP model found by pysr with the data."
   ]
  },
  {
   "cell_type": "code",
   "execution_count": 59,
   "metadata": {},
   "outputs": [
    {
     "data": {
      "image/png": "[encoded data removed]",
      "text/plain": [
       "<Figure size 1296x504 with 1 Axes>"
      ]
     },
     "metadata": {
      "image/png": {
       "height": 440,
       "width": 1060
      },
      "needs_background": "light"
     },
     "output_type": "display_data"
    }
   ],
   "source": [
    "Data_points_index = np.array(range(0,len(estimated)))\n",
    "estimated = np.apply_along_axis(best_equation, 1, X_np)\n",
    "plt.figure(figsize=(18,7))\n",
    "plt.scatter(Data_points_index, estimated, label=\"Best PDC ROP Model found by AI\",c='r')\n",
    "plt.scatter(Data_points_index, Y_np, label=\"Data\")\n",
    "plt.title(\"Comparison between PDC ROP Model found by AI and ROP DATA\")\n",
    "plt.xlabel(\"Data point index\")\n",
    "plt.ylabel(\"ROP Data (ft/hr)\")\n",
    "plt.legend()\n",
    "# plt.show()\n",
    "sys.path.insert(1, '../OpenSource_ROP_Models/ROP models/A PDC ROP model developed by AI/')\n",
    "plt.savefig(\"../A PDC ROP model developed by AI/Figures/Comparison between PDC ROP Model found by AI and ROP DATA.png\", \\\n",
    "            dpi=100)"
   ]
  },
  {
   "cell_type": "code",
   "execution_count": 75,
   "metadata": {},
   "outputs": [
    {
     "data": {
      "image/png": "[encoded data removed]",
      "text/plain": [
       "<Figure size 504x504 with 1 Axes>"
      ]
     },
     "metadata": {
      "image/png": {
       "height": 428,
       "width": 454
      },
      "needs_background": "light"
     },
     "output_type": "display_data"
    }
   ],
   "source": [
    "def func(x, a):\n",
    "    return (a * x)\n",
    "popt, pcov = curve_fit(func, estimated, Y_np_flat)\n",
    "\n",
    "plt.figure(figsize=(7,7))\n",
    "plt.scatter(estimated, Y_np, c='k', label='Data')\n",
    "plt.xlim(0,120),plt.xlabel(\"PDC ROP Model estimation (ft/hr)\")\n",
    "plt.ylim(0,120),plt.ylabel(\"ROP Data (ft/hr)\")\n",
    "plt.plot(estimated, func(estimated, *popt), 'r-',\n",
    "         label='fit: slope = %5.6f' % tuple(popt))\n",
    "plt.legend()\n",
    "plt.savefig(\"../A PDC ROP model developed by AI/Figures/ModelvsData.png\")"
   ]
  },
  {
   "cell_type": "code",
   "execution_count": null,
   "metadata": {},
   "outputs": [],
   "source": []
  }
 ],
 "metadata": {
  "interpreter": {
   "hash": "8e8bcbdb95216a37a2dcd71944774c4115a1008460043c77ce41306a03579f88"
  },
  "kernelspec": {
   "display_name": "Python 3",
   "language": "python",
   "name": "python3"
  },
  "language_info": {
   "codemirror_mode": {
    "name": "ipython",
    "version": 3
   },
   "file_extension": ".py",
   "mimetype": "text/x-python",
   "name": "python",
   "nbconvert_exporter": "python",
   "pygments_lexer": "ipython3",
   "version": "3.7.0"
  }
 },
 "nbformat": 4,
 "nbformat_minor": 2
}
